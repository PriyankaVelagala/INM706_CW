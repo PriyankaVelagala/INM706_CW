{
 "cells": [
  {
   "cell_type": "code",
   "execution_count": 6,
   "id": "edb37f64-00b6-457f-9a51-26a20ec045a2",
   "metadata": {},
   "outputs": [],
   "source": [
    "import pandas as pd\n",
    "import shutil \n",
    "import os "
   ]
  },
  {
   "cell_type": "code",
   "execution_count": 7,
   "id": "9ac5edc1-3fcf-424f-b6b1-128e48f573d0",
   "metadata": {},
   "outputs": [],
   "source": [
    "ann_dir = \"/home/Datasets/flickr30k/annotations/\"\n",
    "ann_fname = \"results.csv\"\n",
    "src_img_dir =  \"/home/Datasets/flickr30k/flickr30k_images\"\n",
    "dst_img_dir =  \"/home/Datasets/flickr30k/images_split\"\n",
    "NUM_OF_IMG = 10000"
   ]
  },
  {
   "cell_type": "code",
   "execution_count": 8,
   "id": "abf0f9ab-6d60-4c54-999f-d137ab956aff",
   "metadata": {},
   "outputs": [
    {
     "data": {
      "text/html": [
       "<div>\n",
       "<style scoped>\n",
       "    .dataframe tbody tr th:only-of-type {\n",
       "        vertical-align: middle;\n",
       "    }\n",
       "\n",
       "    .dataframe tbody tr th {\n",
       "        vertical-align: top;\n",
       "    }\n",
       "\n",
       "    .dataframe thead th {\n",
       "        text-align: right;\n",
       "    }\n",
       "</style>\n",
       "<table border=\"1\" class=\"dataframe\">\n",
       "  <thead>\n",
       "    <tr style=\"text-align: right;\">\n",
       "      <th></th>\n",
       "      <th>image_name</th>\n",
       "      <th>comment_number</th>\n",
       "      <th>comment</th>\n",
       "    </tr>\n",
       "  </thead>\n",
       "  <tbody>\n",
       "    <tr>\n",
       "      <th>0</th>\n",
       "      <td>1000092795.jpg</td>\n",
       "      <td>0</td>\n",
       "      <td>Two young guys with shaggy hair look at their...</td>\n",
       "    </tr>\n",
       "    <tr>\n",
       "      <th>1</th>\n",
       "      <td>1000092795.jpg</td>\n",
       "      <td>1</td>\n",
       "      <td>Two young , White males are outside near many...</td>\n",
       "    </tr>\n",
       "    <tr>\n",
       "      <th>2</th>\n",
       "      <td>1000092795.jpg</td>\n",
       "      <td>2</td>\n",
       "      <td>Two men in green shirts are standing in a yard .</td>\n",
       "    </tr>\n",
       "    <tr>\n",
       "      <th>3</th>\n",
       "      <td>1000092795.jpg</td>\n",
       "      <td>3</td>\n",
       "      <td>A man in a blue shirt standing in a garden .</td>\n",
       "    </tr>\n",
       "    <tr>\n",
       "      <th>4</th>\n",
       "      <td>1000092795.jpg</td>\n",
       "      <td>4</td>\n",
       "      <td>Two friends enjoy time spent together .</td>\n",
       "    </tr>\n",
       "  </tbody>\n",
       "</table>\n",
       "</div>"
      ],
      "text/plain": [
       "       image_name  comment_number  \\\n",
       "0  1000092795.jpg               0   \n",
       "1  1000092795.jpg               1   \n",
       "2  1000092795.jpg               2   \n",
       "3  1000092795.jpg               3   \n",
       "4  1000092795.jpg               4   \n",
       "\n",
       "                                             comment  \n",
       "0   Two young guys with shaggy hair look at their...  \n",
       "1   Two young , White males are outside near many...  \n",
       "2   Two men in green shirts are standing in a yard .  \n",
       "3       A man in a blue shirt standing in a garden .  \n",
       "4            Two friends enjoy time spent together .  "
      ]
     },
     "execution_count": 8,
     "metadata": {},
     "output_type": "execute_result"
    }
   ],
   "source": [
    "fpath = ann_dir + ann_fname\n",
    "df = pd.read_csv(fpath, delimiter = \"|\")\n",
    "df.head()"
   ]
  },
  {
   "cell_type": "code",
   "execution_count": 9,
   "id": "eb8a749d-fe8c-4833-9068-079a7744444d",
   "metadata": {},
   "outputs": [
    {
     "data": {
      "text/plain": [
       "array(['1000092795.jpg', '10002456.jpg', '1000268201.jpg',\n",
       "       '1000344755.jpg', '1000366164.jpg', '1000523639.jpg',\n",
       "       '1000919630.jpg', '10010052.jpg', '1001465944.jpg',\n",
       "       '1001545525.jpg'], dtype=object)"
      ]
     },
     "execution_count": 9,
     "metadata": {},
     "output_type": "execute_result"
    }
   ],
   "source": [
    "#img_to_copy \n",
    "img_fnames = df['image_name'].drop_duplicates()[:NUM_OF_IMG].values\n",
    "img_fnames[:10]\n",
    "#img_to_copy"
   ]
  },
  {
   "cell_type": "code",
   "execution_count": 10,
   "id": "e3bb0936-11c3-4a1c-9f7b-dbef11f1c5ca",
   "metadata": {},
   "outputs": [
    {
     "name": "stdout",
     "output_type": "stream",
     "text": [
      "copied 7000 files to train\n",
      "copied 1000 files to val\n",
      "copied 2000 files to test\n"
     ]
    }
   ],
   "source": [
    "splits = {'train': 0.7, 'val': 0.1, 'test': 0.2}\n",
    "\n",
    "f_index = 0 \n",
    "l_index = 0 \n",
    "\n",
    "for key, value in splits.items():\n",
    "    l_index = int(l_index + value*NUM_OF_IMG)\n",
    "    \n",
    "    #print(f_index, l_index)\n",
    "    f_to_copy = img_fnames[f_index : l_index]\n",
    "    #print(f_to_copy)\n",
    "    \n",
    "    #check if folder already exists, if not, create them \n",
    "    path = dst_img_dir + '/' + key\n",
    "    isExist = os.path.exists(path)\n",
    "    if not(isExist):\n",
    "        os.makedirs(path)\n",
    "        \n",
    "    f_counter = 0 \n",
    "    for file in f_to_copy:\n",
    "        s_path = src_img_dir + \"/\" + file\n",
    "        if os.path.exists(s_path):\n",
    "            d_path = dst_img_dir + \"/\" + key + '/' + file\n",
    "\n",
    "            shutil.copyfile(s_path, d_path)\n",
    "            f_counter += 1\n",
    "    \n",
    "    print(\"copied {} files to {}\".format(f_counter, key))\n",
    "    f_index = l_index "
   ]
  },
  {
   "cell_type": "code",
   "execution_count": null,
   "id": "2747ca00-590b-4ccc-88ef-f70fc20638a6",
   "metadata": {},
   "outputs": [],
   "source": []
  }
 ],
 "metadata": {
  "kernelspec": {
   "display_name": "Python 3 (ipykernel)",
   "language": "python",
   "name": "python3"
  },
  "language_info": {
   "codemirror_mode": {
    "name": "ipython",
    "version": 3
   },
   "file_extension": ".py",
   "mimetype": "text/x-python",
   "name": "python",
   "nbconvert_exporter": "python",
   "pygments_lexer": "ipython3",
   "version": "3.8.12"
  }
 },
 "nbformat": 4,
 "nbformat_minor": 5
}
