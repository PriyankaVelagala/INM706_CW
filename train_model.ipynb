{
  "cells": [
    {
      "cell_type": "code",
      "execution_count": null,
      "metadata": {
        "id": "QPCe1BlIEDIZ"
      },
      "outputs": [],
      "source": [
        "!pip install transformers\n",
        "from google.colab import drive\n",
        "drive.mount('/content/drive')\n",
        "import sys\n",
        "sys.path.append('/content/drive/MyDrive/Colab Notebooks/sequences/sequences2')"
      ],
      "id": "QPCe1BlIEDIZ"
    },
    {
      "cell_type": "code",
      "execution_count": null,
      "metadata": {
        "colab": {
          "base_uri": "https://localhost:8080/"
        },
        "id": "59ef23ae-ffd8-49e4-9600-89b3cd1545a1",
        "outputId": "f7c34f41-32d9-4947-89c0-2e24ab36747d"
      },
      "outputs": [
        {
          "output_type": "stream",
          "name": "stdout",
          "text": [
            "[nltk_data] Downloading package punkt to /root/nltk_data...\n",
            "[nltk_data]   Unzipping tokenizers/punkt.zip.\n"
          ]
        }
      ],
      "source": [
        "import dataset_flickr7k\n",
        "import helper_classes as helper\n",
        "import nltk\n",
        "nltk.download('punkt')\n",
        "import matplotlib.pyplot as plt\n",
        "from torch.utils.data import Dataset, DataLoader\n",
        "from torch.utils import data as data\n",
        "import model\n",
        "import time \n",
        "import torch\n",
        "import torch.nn as nn\n",
        "import torch.optim as optim\n",
        "import pathlib\n",
        "import os "
      ],
      "id": "59ef23ae-ffd8-49e4-9600-89b3cd1545a1"
    },
    {
      "cell_type": "code",
      "execution_count": null,
      "metadata": {
        "id": "7901469e-f468-45c8-a3a8-476d217db4a4"
      },
      "outputs": [],
      "source": [
        "CHECKPOINT_DIRECTORY = \"model_checkpoints\""
      ],
      "id": "7901469e-f468-45c8-a3a8-476d217db4a4"
    },
    {
      "cell_type": "markdown",
      "metadata": {
        "id": "cafd18b8-b7f3-4611-b8bb-d7f2538ac194"
      },
      "source": [
        "# Load Dataset"
      ],
      "id": "cafd18b8-b7f3-4611-b8bb-d7f2538ac194"
    },
    {
      "cell_type": "markdown",
      "metadata": {
        "id": "6e2bfcfc-61cf-4d21-b76e-12921864fdfd"
      },
      "source": [
        "## Train set "
      ],
      "id": "6e2bfcfc-61cf-4d21-b76e-12921864fdfd"
    },
    {
      "cell_type": "code",
      "execution_count": null,
      "metadata": {
        "colab": {
          "base_uri": "https://localhost:8080/"
        },
        "id": "cf17316c-4306-4804-a985-080e65132d8b",
        "outputId": "8ed9ac2f-6bf0-4f77-c86b-024269150afc"
      },
      "outputs": [
        {
          "output_type": "stream",
          "name": "stdout",
          "text": [
            "length = 7000\n",
            "stage:  train\n",
            "ds_path:  /content/drive/MyDrive/Colab Notebooks/sequences/sequences2\n",
            "captions_f:  /content/drive/MyDrive/Colab Notebooks/sequences/sequences2/results_new.csv\n",
            "imgs_dir:  /content/drive/MyDrive/Colab Notebooks/sequences/sequences2/images_split/train\n",
            "Initialized 7736 words in vocabulary\n",
            "Initialized 35000 images!\n"
          ]
        }
      ],
      "source": [
        "# dataset\n",
        "data_args = {'stage': 'train',\n",
        "            'ds_path' : \"/content/drive/MyDrive/Colab Notebooks/sequences/sequences2\", \n",
        "            'captions_dir': \"\",\n",
        "            'captions_fname': 'results_new.csv',\n",
        "            'images_dir': '/images_split',\n",
        "            'freq_threshold': 5}\n",
        "#train_data = dataset_flickr.Flickr30kData(**data_args)\n",
        "train_data = dataset_flickr7k.Flickr7kData(**data_args)\n",
        "\n",
        "print(f\"Initialized {len(train_data)} images!\") "
      ],
      "id": "cf17316c-4306-4804-a985-080e65132d8b"
    },
    {
      "cell_type": "markdown",
      "metadata": {
        "id": "b3ec81d1-2ee8-46e1-a4c1-0f6cb74dba39"
      },
      "source": [
        "## Validation set"
      ],
      "id": "b3ec81d1-2ee8-46e1-a4c1-0f6cb74dba39"
    },
    {
      "cell_type": "code",
      "execution_count": null,
      "metadata": {
        "colab": {
          "base_uri": "https://localhost:8080/"
        },
        "id": "86a858b3-b8ad-41b9-ab56-cb2ec047929c",
        "outputId": "02aff7e5-f701-4d3d-eea8-4899f19b3afb"
      },
      "outputs": [
        {
          "output_type": "stream",
          "name": "stdout",
          "text": [
            "length = 1000\n",
            "stage:  val\n",
            "ds_path:  /content/drive/MyDrive/Colab Notebooks/sequences/sequences2\n",
            "captions_f:  /content/drive/MyDrive/Colab Notebooks/sequences/sequences2/results_new.csv\n",
            "imgs_dir:  /content/drive/MyDrive/Colab Notebooks/sequences/sequences2/images_split/val\n",
            "Initialized 7736 words in vocabulary\n",
            "Initialized 5000 images!\n"
          ]
        }
      ],
      "source": [
        "# dataset\n",
        "data_args = {'stage': 'val',\n",
        "            'ds_path' : \"/content/drive/MyDrive/Colab Notebooks/sequences/sequences2\", \n",
        "            'captions_dir': \"\",\n",
        "            'captions_fname': 'results_new.csv',\n",
        "            'images_dir': '/images_split',\n",
        "            'freq_threshold': 5}\n",
        "#val_data = dataset_flickr.Flickr30kData(**data_args)\n",
        "val_data = dataset_flickr7k.Flickr7kData(**data_args)\n",
        "\n",
        "print(f\"Initialized {len(val_data)} images!\") "
      ],
      "id": "86a858b3-b8ad-41b9-ab56-cb2ec047929c"
    },
    {
      "cell_type": "markdown",
      "metadata": {
        "id": "aca5677e-231c-4306-b344-c8271a0cb5e3"
      },
      "source": [
        "## Set up data loader"
      ],
      "id": "aca5677e-231c-4306-b344-c8271a0cb5e3"
    },
    {
      "cell_type": "code",
      "execution_count": null,
      "metadata": {
        "id": "4c59ec99-699c-4c05-9ee7-a29de53c96dd"
      },
      "outputs": [],
      "source": [
        "pad_idx = train_data.vocabulary.str_to_idx[\"<PAD>\"]\n",
        "batch_size = 128 \n",
        "\n",
        "train_loader = DataLoader(\n",
        "        dataset=train_data,\n",
        "        batch_size=batch_size,\n",
        "        shuffle=True,\n",
        "        collate_fn=helper.CollateCustom(pad_idx, batch_first=False),\n",
        "    )\n",
        "\n",
        "\n",
        "val_loader = DataLoader (\n",
        "        dataset=val_data,\n",
        "        batch_size=batch_size,\n",
        "        shuffle=True,\n",
        "        collate_fn=helper.CollateCustom(pad_idx, batch_first=False),\n",
        "    )"
      ],
      "id": "4c59ec99-699c-4c05-9ee7-a29de53c96dd"
    },
    {
      "cell_type": "markdown",
      "metadata": {
        "id": "31287546-cae0-48f1-b675-b20e12447584"
      },
      "source": [
        "# Set up hyperparameters"
      ],
      "id": "31287546-cae0-48f1-b675-b20e12447584"
    },
    {
      "cell_type": "code",
      "execution_count": null,
      "metadata": {
        "id": "1743ba45-c53b-45d8-9d26-466d0b3adca8"
      },
      "outputs": [],
      "source": [
        "# Hyperparameters\n",
        "embed_size = 256\n",
        "hidden_size = 256\n",
        "vocab_size = len(train_data.vocabulary) \n",
        "num_layers = 1\n",
        "learning_rate = 3e-4\n",
        "\n",
        "# Don't train CNN from scratch\n",
        "# Tune last layer \n",
        "extract_features = True"
      ],
      "id": "1743ba45-c53b-45d8-9d26-466d0b3adca8"
    },
    {
      "cell_type": "markdown",
      "metadata": {
        "id": "5220663c-d28d-4c40-b7b6-b693b6bede9d"
      },
      "source": [
        "# Initialize Model, Loss & optimizer"
      ],
      "id": "5220663c-d28d-4c40-b7b6-b693b6bede9d"
    },
    {
      "cell_type": "code",
      "execution_count": 17,
      "metadata": {
        "colab": {
          "base_uri": "https://localhost:8080/"
        },
        "id": "2f8b2d37-3de9-453f-9835-3d56ffaa7b77",
        "outputId": "fef830eb-5402-465f-c422-beddb7a4ae11"
      },
      "outputs": [
        {
          "output_type": "execute_result",
          "data": {
            "text/plain": [
              "device(type='cuda')"
            ]
          },
          "metadata": {},
          "execution_count": 17
        }
      ],
      "source": [
        "device = torch.device(\"cuda\" if torch.cuda.is_available() else \"cpu\")\n",
        "device"
      ],
      "id": "2f8b2d37-3de9-453f-9835-3d56ffaa7b77"
    },
    {
      "cell_type": "code",
      "execution_count": null,
      "metadata": {
        "colab": {
          "base_uri": "https://localhost:8080/",
          "height": 124,
          "referenced_widgets": [
            "845e5d58a8e34a1d93c7ab7a87832074",
            "46f230c627e84db190f16b9be6e479e9",
            "79686e9829c74892a0251cd4622f2ec2",
            "78a84d773a1f4380ba5e1fb81d60dac3",
            "0b1c1a90fd60465b8abf6a638a712db3",
            "b0d2681eb321449ab4f912a6df8244d3",
            "a7f99582796a4ab1acc380a54e1f5ad9",
            "b25469ccaa7046d3a2c6af8e25a674e6",
            "97e80fb7313c481791f85784da30cab8",
            "67dcc3e8ef90485cbc15dd419d4edfcc",
            "3b7de90a386d4919ba5d2d97eae5c619"
          ]
        },
        "id": "f03012dc-e653-473c-b2cb-00d4d3bf7406",
        "outputId": "92deecda-3589-42c1-d8fe-717a16aad3d6"
      },
      "outputs": [
        {
          "output_type": "stream",
          "name": "stderr",
          "text": [
            "Downloading: \"https://download.pytorch.org/models/inception_v3_google-0cc3c7bd.pth\" to /root/.cache/torch/hub/checkpoints/inception_v3_google-0cc3c7bd.pth\n"
          ]
        },
        {
          "output_type": "display_data",
          "data": {
            "text/plain": [
              "  0%|          | 0.00/104M [00:00<?, ?B/s]"
            ],
            "application/vnd.jupyter.widget-view+json": {
              "version_major": 2,
              "version_minor": 0,
              "model_id": "845e5d58a8e34a1d93c7ab7a87832074"
            }
          },
          "metadata": {}
        },
        {
          "output_type": "stream",
          "name": "stdout",
          "text": [
            "Initialized Encoder!\n",
            "Initialized Decoder!\n"
          ]
        }
      ],
      "source": [
        "import importlib \n",
        "import model\n",
        "importlib.reload(model)\n",
        "model = model.EncodertoDecoder(embed_size, hidden_size, num_layers, vocab_size, extract_features).to(device)\n",
        "criterion = nn.CrossEntropyLoss(ignore_index=train_data.vocabulary.str_to_idx[\"<PAD>\"])\n",
        "optimizer = optim.Adam(model.parameters(), lr=learning_rate)"
      ],
      "id": "f03012dc-e653-473c-b2cb-00d4d3bf7406"
    },
    {
      "cell_type": "markdown",
      "metadata": {
        "id": "e434ca79-295a-4eff-a49b-3c1d38e41cce"
      },
      "source": [
        "# Train model"
      ],
      "id": "e434ca79-295a-4eff-a49b-3c1d38e41cce"
    },
    {
      "cell_type": "code",
      "execution_count": null,
      "metadata": {
        "colab": {
          "base_uri": "https://localhost:8080/"
        },
        "id": "f1ff3267-b774-405b-8380-cea752162718",
        "outputId": "534a16ee-3e53-447d-9f93-c5d742df3b49"
      },
      "outputs": [
        {
          "output_type": "stream",
          "name": "stdout",
          "text": [
            "Training loss after 1 epochs: 5.069717010442358\n",
            "Validation loss after 1 epochs: 4.2358744740486145\n",
            "Training loss after 2 epochs: 4.033274424337122\n",
            "Validation loss after 2 epochs: 3.8866232693195344\n",
            "Training loss after 3 epochs: 3.780430215988716\n",
            "Validation loss after 3 epochs: 3.7186895191669462\n",
            "Training loss after 4 epochs: 3.6347027173007493\n",
            "Validation loss after 4 epochs: 3.6140151262283324\n",
            "Training loss after 5 epochs: 3.5332849834957263\n",
            "Validation loss after 5 epochs: 3.5293256878852843\n",
            "Time elapsed: 44.28 min\n",
            "Saved checkpoint basic_model_5_epochs.pth!\n",
            "Training loss after 6 epochs: 3.4547478969949874\n",
            "Validation loss after 6 epochs: 3.4625115275382994\n",
            "Training loss after 7 epochs: 3.3921400726276594\n",
            "Validation loss after 7 epochs: 3.401897531747818\n",
            "Training loss after 8 epochs: 3.338527788210959\n",
            "Validation loss after 8 epochs: 3.378603905439377\n",
            "Training loss after 9 epochs: 3.2896466481424596\n",
            "Validation loss after 9 epochs: 3.348192298412323\n",
            "Training loss after 10 epochs: 3.246186258148973\n",
            "Validation loss after 10 epochs: 3.3178159654140473\n",
            "Time elapsed: 80.15 min\n",
            "Saved checkpoint basic_model_10_epochs.pth!\n",
            "Training loss after 11 epochs: 3.206762746302751\n",
            "Validation loss after 11 epochs: 3.282922464609146\n",
            "Training loss after 12 epochs: 3.168120868884734\n",
            "Validation loss after 12 epochs: 3.265169644355774\n",
            "Training loss after 13 epochs: 3.1305077545834283\n",
            "Validation loss after 13 epochs: 3.2265045404434205\n",
            "Training loss after 14 epochs: 3.095166638819841\n",
            "Validation loss after 14 epochs: 3.2149782478809357\n",
            "Training loss after 15 epochs: 3.0624141954157476\n",
            "Validation loss after 15 epochs: 3.1921766638755797\n",
            "Time elapsed: 116.07 min\n",
            "Saved checkpoint basic_model_15_epochs.pth!\n",
            "Training loss after 16 epochs: 3.0327428953490987\n",
            "Validation loss after 16 epochs: 3.1754083573818206\n",
            "Training loss after 17 epochs: 3.003210095593529\n",
            "Validation loss after 17 epochs: 3.1515714526176453\n",
            "Training loss after 18 epochs: 2.9755150532200387\n",
            "Validation loss after 18 epochs: 3.1348651468753816\n",
            "Training loss after 19 epochs: 2.9517568958936815\n",
            "Validation loss after 19 epochs: 3.120981603860855\n",
            "Training loss after 20 epochs: 2.929392256005837\n",
            "Validation loss after 20 epochs: 3.109283035993576\n",
            "Time elapsed: 151.45 min\n",
            "Saved checkpoint basic_model_20_epochs.pth!\n",
            "Training loss after 21 epochs: 2.9060806853927836\n",
            "Validation loss after 21 epochs: 3.0889797449111938\n",
            "Training loss after 22 epochs: 2.8851209443851107\n",
            "Validation loss after 22 epochs: 3.099577707052231\n",
            "Early Stopping Trigger Count:  1\n",
            "Training loss after 23 epochs: 2.8647458126945216\n",
            "Validation loss after 23 epochs: 3.0714898467063905\n",
            "Training loss after 24 epochs: 2.846457093301481\n",
            "Validation loss after 24 epochs: 3.0707447588443757\n",
            "Training loss after 25 epochs: 2.8291251467962333\n",
            "Validation loss after 25 epochs: 3.070537692308426\n",
            "Time elapsed: 187.46 min\n",
            "Saved checkpoint basic_model_25_epochs.pth!\n",
            "Training loss after 26 epochs: 2.810221526744592\n",
            "Validation loss after 26 epochs: 3.060075432062149\n",
            "Training loss after 27 epochs: 2.7934107093045313\n",
            "Validation loss after 27 epochs: 3.04544740319252\n",
            "Training loss after 28 epochs: 2.7770609246553297\n",
            "Validation loss after 28 epochs: 3.044532710313797\n",
            "Training loss after 29 epochs: 2.7622252485177814\n",
            "Validation loss after 29 epochs: 3.05113690495491\n",
            "Early Stopping Trigger Count:  2\n",
            "Training loss after 30 epochs: 2.7467257863413677\n",
            "Validation loss after 30 epochs: 3.038270354270935\n",
            "Time elapsed: 223.1 min\n",
            "Saved checkpoint basic_model_30_epochs.pth!\n",
            "Training loss after 31 epochs: 2.7328984685187794\n",
            "Validation loss after 31 epochs: 3.0398723900318148\n",
            "Early Stopping Trigger Count:  3\n",
            "Saved model basic_model.pth!\n",
            "Early Stopping!\n",
            "Time elapsed for 50 epochs: 230.22 min\n",
            "loss:  2.833125352859497\n"
          ]
        }
      ],
      "source": [
        "CHECKPOINT_DIRECTORY = \"model_checkpoints\"\n",
        "\n",
        "model.train()\n",
        "\n",
        "start = 1\n",
        "num_epochs = 50  \n",
        "losses = [] \n",
        "losses_val = []\n",
        "\n",
        "time_start = time.time() \n",
        "\n",
        "restore_latest_checkpoint = False\n",
        "\n",
        "if restore_latest_checkpoint:\n",
        "    #find last checkpoint file based on last modified \n",
        "    all_files = pathlib.Path(CHECKPOINT_DIRECTORY).glob('*.pth')\n",
        "    latest_file = max(all_files, key=os.path.getctime)\n",
        "    checkpoint_file = str(latest_file).split(\"/\")[1]\n",
        "    \n",
        "    #adjust epoch range\n",
        "    start = int(checkpoint_file.split(\"_\")[2]) + 1 \n",
        "    num_epochs += start \n",
        "    \n",
        "    #load checkpoint \n",
        "    helper.load_checkpoint(checkpoint_file, model, optimizer)\n",
        "\n",
        "  \n",
        "\"\"\"\n",
        "Training\n",
        "\"\"\"\n",
        "# Early stopping variables\n",
        "previous_loss = 50\n",
        "triggered = 0\n",
        "\n",
        "for epoch in range(start, num_epochs+1):\n",
        "    model.train()\n",
        "\n",
        "    batch_loss = 0 \n",
        "    avg_batch_loss = 0 \n",
        "\n",
        "    for batch_num, (idx, X, y) in enumerate(train_loader):\n",
        "        X = X.to(device)\n",
        "        y = y.to(device)\n",
        "\n",
        "        outputs = model(X, y[:-1])\n",
        "        \n",
        "        loss = criterion(\n",
        "            outputs.reshape(-1, outputs.shape[2]), y.reshape(-1)\n",
        "        )\n",
        "\n",
        "        optimizer.zero_grad()\n",
        "        loss.backward(loss)\n",
        "        optimizer.step()\n",
        "        \n",
        "        batch_loss += loss.item()\n",
        "\n",
        "    avg_batch_loss = batch_loss/(batch_num+1)\n",
        "                \n",
        "    \"\"\"\n",
        "    Validation\n",
        "    \"\"\"\n",
        "    # run validation set to see find loss \n",
        "    batch_loss_val = 0 \n",
        "    avg_batch_loss_val = 0 \n",
        "    with torch.no_grad(): \n",
        "        for batch_num_val, (idx_val, X_val, y_val) in enumerate(val_loader):\n",
        "            X_val = X_val.to(device)\n",
        "            y_val = y_val.to(device)\n",
        "\n",
        "\n",
        "            #calculate loss\n",
        "            out_val = model(X_val, y_val[:-1])\n",
        "            loss_val = criterion(out_val.reshape(-1, out_val.shape[2]), y_val.reshape(-1))\n",
        "            \n",
        "            batch_loss_val += loss_val.item()\n",
        "\n",
        "\n",
        "    avg_batch_loss_val = batch_loss_val/(batch_num_val+1)\n",
        "\n",
        "    # save loss after every epoch\n",
        "    losses.append([avg_batch_loss, avg_batch_loss_val])\n",
        "\n",
        "    print(f\"Training loss after {epoch} epochs: {avg_batch_loss}\")\n",
        "    print(f'Validation loss after {epoch} epochs: {avg_batch_loss_val}')\n",
        "        \n",
        "    \"\"\"\n",
        "    Save checkpoints\n",
        "    \"\"\" \n",
        "    if epoch%5 == 0:\n",
        "        print(\"Time elapsed: {} min\".format((round((time.time()-time_start)/60, 2))))\n",
        "        checkpoint = {\"state_dict\": model.state_dict(),\n",
        "                    \"optimizer\": optimizer.state_dict(),\n",
        "                    \"step\": epoch\n",
        "                    }\n",
        "        fname = \"basic_model_\" + str(epoch) + \"_epochs.pth\" \n",
        "        helper.save_checkpoint(checkpoint, fname)\n",
        "\n",
        "\n",
        "    \"\"\"    \n",
        "    Early stopping\n",
        "    \"\"\"\n",
        "    current_loss = avg_batch_loss_val\n",
        "\n",
        "    if current_loss > previous_loss:\n",
        "        triggered += 1\n",
        "        print('Early Stopping Trigger Count: ', triggered)\n",
        "\n",
        "        if triggered >= 3:\n",
        "            helper.save_model(model.state_dict(), \"basic_model.pth\")\n",
        "            print('Early Stopping!')\n",
        "            break;\n",
        "\n",
        "    previous_loss = current_loss\n",
        "    \n",
        "    #for final epoch \n",
        "    if epoch == num_epochs: \n",
        "        helper.save_model(model.state_dict(), \"basic_model.pth\")\n",
        "             \n",
        "print(\"Time elapsed for {} epochs: {} min\".format(epoch, \n",
        "                                                  round((time.time()-time_start)/60, 2)))\n",
        "print(\"loss: \", loss.item())"
      ],
      "id": "f1ff3267-b774-405b-8380-cea752162718"
    },
    {
      "cell_type": "markdown",
      "metadata": {
        "id": "ceb8c7b3-5a7f-468b-b8b3-23b93e385e2d"
      },
      "source": [
        "## Plot loss "
      ],
      "id": "ceb8c7b3-5a7f-468b-b8b3-23b93e385e2d"
    },
    {
      "cell_type": "code",
      "execution_count": null,
      "metadata": {
        "colab": {
          "base_uri": "https://localhost:8080/",
          "height": 286
        },
        "id": "b994380c-aa85-4509-bba9-43a452b78039",
        "outputId": "07bbea75-bd5d-4fcb-a46d-cedf0f31331d"
      },
      "outputs": [
        {
          "output_type": "execute_result",
          "data": {
            "text/plain": [
              "<matplotlib.axes._subplots.AxesSubplot at 0x7ff3a7217910>"
            ]
          },
          "metadata": {},
          "execution_count": 14
        },
        {
          "output_type": "display_data",
          "data": {
            "text/plain": [
              "<Figure size 432x288 with 1 Axes>"
            ],
            "image/png": "[encoded data removed]"
          },
          "metadata": {}
        }
      ],
      "source": [
        "import matplotlib.pyplot as plt \n",
        "import seaborn as sns \n",
        "import pandas as pd\n",
        "sns.set() \n",
        "\n",
        "\n",
        "if restore_latest_checkpoint: \n",
        "    #add to existing losses \n",
        "    old_losses = pd.read_csv('loss.csv')[[\"epochs\", \"loss\", \"loss_val\"]]\n",
        "    start_index = old_losses.epochs.max() + 1\n",
        "    new_data = [[start_index+i, losses[i][0], losses[i][1]] for i in range(len(losses))]\n",
        "    new_losses = pd.DataFrame(new_data, columns = [\"epochs\", \"loss\", \"loss_val\"])\n",
        "    loss_df = pd.concat([old_losses, new_losses], keys = [\"epochs\", \"loss\", \"loss_val\"]).reset_index(drop = True)\n",
        "    \n",
        "else:\n",
        "    #create new df \n",
        "    loss_df = pd.DataFrame(losses, columns = ['loss', \"loss_val\"])\n",
        "    loss_df = loss_df.reset_index().rename(columns= {'index': 'epochs'})\n",
        "    \n",
        "loss_df.to_csv(\"loss.csv\")\n",
        "\n",
        "loss_df\n",
        "sns.lineplot(data= loss_df.iloc[:, 1:])"
      ],
      "id": "b994380c-aa85-4509-bba9-43a452b78039"
    },
    {
      "cell_type": "code",
      "execution_count": null,
      "metadata": {
        "id": "b31bf3ab-d23c-4038-8ee4-ff58126a8659"
      },
      "outputs": [],
      "source": [
        ""
      ],
      "id": "b31bf3ab-d23c-4038-8ee4-ff58126a8659"
    }
  ],
  "metadata": {
    "accelerator": "GPU",
    "colab": {
      "background_execution": "on",
      "collapsed_sections": [],
      "name": "train_model.ipynb",
      "provenance": []
    },
    "kernelspec": {
      "display_name": "Python 3 (ipykernel)",
      "language": "python",
      "name": "python3"
    },
    "language_info": {
      "codemirror_mode": {
        "name": "ipython",
        "version": 3
      },
      "file_extension": ".py",
      "mimetype": "text/x-python",
      "name": "python",
      "nbconvert_exporter": "python",
      "pygments_lexer": "ipython3",
      "version": "3.8.12"
    },
    "widgets": {
      "application/vnd.jupyter.widget-state+json": {
        "845e5d58a8e34a1d93c7ab7a87832074": {
          "model_module": "@jupyter-widgets/controls",
          "model_name": "HBoxModel",
          "model_module_version": "1.5.0",
          "state": {
            "_dom_classes": [],
            "_model_module": "@jupyter-widgets/controls",
            "_model_module_version": "1.5.0",
            "_model_name": "HBoxModel",
            "_view_count": null,
            "_view_module": "@jupyter-widgets/controls",
            "_view_module_version": "1.5.0",
            "_view_name": "HBoxView",
            "box_style": "",
            "children": [
              "IPY_MODEL_46f230c627e84db190f16b9be6e479e9",
              "IPY_MODEL_79686e9829c74892a0251cd4622f2ec2",
              "IPY_MODEL_78a84d773a1f4380ba5e1fb81d60dac3"
            ],
            "layout": "IPY_MODEL_0b1c1a90fd60465b8abf6a638a712db3"
          }
        },
        "46f230c627e84db190f16b9be6e479e9": {
          "model_module": "@jupyter-widgets/controls",
          "model_name": "HTMLModel",
          "model_module_version": "1.5.0",
          "state": {
            "_dom_classes": [],
            "_model_module": "@jupyter-widgets/controls",
            "_model_module_version": "1.5.0",
            "_model_name": "HTMLModel",
            "_view_count": null,
            "_view_module": "@jupyter-widgets/controls",
            "_view_module_version": "1.5.0",
            "_view_name": "HTMLView",
            "description": "",
            "description_tooltip": null,
            "layout": "IPY_MODEL_b0d2681eb321449ab4f912a6df8244d3",
            "placeholder": "​",
            "style": "IPY_MODEL_a7f99582796a4ab1acc380a54e1f5ad9",
            "value": "100%"
          }
        },
        "79686e9829c74892a0251cd4622f2ec2": {
          "model_module": "@jupyter-widgets/controls",
          "model_name": "FloatProgressModel",
          "model_module_version": "1.5.0",
          "state": {
            "_dom_classes": [],
            "_model_module": "@jupyter-widgets/controls",
            "_model_module_version": "1.5.0",
            "_model_name": "FloatProgressModel",
            "_view_count": null,
            "_view_module": "@jupyter-widgets/controls",
            "_view_module_version": "1.5.0",
            "_view_name": "ProgressView",
            "bar_style": "success",
            "description": "",
            "description_tooltip": null,
            "layout": "IPY_MODEL_b25469ccaa7046d3a2c6af8e25a674e6",
            "max": 108949747,
            "min": 0,
            "orientation": "horizontal",
            "style": "IPY_MODEL_97e80fb7313c481791f85784da30cab8",
            "value": 108949747
          }
        },
        "78a84d773a1f4380ba5e1fb81d60dac3": {
          "model_module": "@jupyter-widgets/controls",
          "model_name": "HTMLModel",
          "model_module_version": "1.5.0",
          "state": {
            "_dom_classes": [],
            "_model_module": "@jupyter-widgets/controls",
            "_model_module_version": "1.5.0",
            "_model_name": "HTMLModel",
            "_view_count": null,
            "_view_module": "@jupyter-widgets/controls",
            "_view_module_version": "1.5.0",
            "_view_name": "HTMLView",
            "description": "",
            "description_tooltip": null,
            "layout": "IPY_MODEL_67dcc3e8ef90485cbc15dd419d4edfcc",
            "placeholder": "​",
            "style": "IPY_MODEL_3b7de90a386d4919ba5d2d97eae5c619",
            "value": " 104M/104M [00:00&lt;00:00, 204MB/s]"
          }
        },
        "0b1c1a90fd60465b8abf6a638a712db3": {
          "model_module": "@jupyter-widgets/base",
          "model_name": "LayoutModel",
          "model_module_version": "1.2.0",
          "state": {
            "_model_module": "@jupyter-widgets/base",
            "_model_module_version": "1.2.0",
            "_model_name": "LayoutModel",
            "_view_count": null,
            "_view_module": "@jupyter-widgets/base",
            "_view_module_version": "1.2.0",
            "_view_name": "LayoutView",
            "align_content": null,
            "align_items": null,
            "align_self": null,
            "border": null,
            "bottom": null,
            "display": null,
            "flex": null,
            "flex_flow": null,
            "grid_area": null,
            "grid_auto_columns": null,
            "grid_auto_flow": null,
            "grid_auto_rows": null,
            "grid_column": null,
            "grid_gap": null,
            "grid_row": null,
            "grid_template_areas": null,
            "grid_template_columns": null,
            "grid_template_rows": null,
            "height": null,
            "justify_content": null,
            "justify_items": null,
            "left": null,
            "margin": null,
            "max_height": null,
            "max_width": null,
            "min_height": null,
            "min_width": null,
            "object_fit": null,
            "object_position": null,
            "order": null,
            "overflow": null,
            "overflow_x": null,
            "overflow_y": null,
            "padding": null,
            "right": null,
            "top": null,
            "visibility": null,
            "width": null
          }
        },
        "b0d2681eb321449ab4f912a6df8244d3": {
          "model_module": "@jupyter-widgets/base",
          "model_name": "LayoutModel",
          "model_module_version": "1.2.0",
          "state": {
            "_model_module": "@jupyter-widgets/base",
            "_model_module_version": "1.2.0",
            "_model_name": "LayoutModel",
            "_view_count": null,
            "_view_module": "@jupyter-widgets/base",
            "_view_module_version": "1.2.0",
            "_view_name": "LayoutView",
            "align_content": null,
            "align_items": null,
            "align_self": null,
            "border": null,
            "bottom": null,
            "display": null,
            "flex": null,
            "flex_flow": null,
            "grid_area": null,
            "grid_auto_columns": null,
            "grid_auto_flow": null,
            "grid_auto_rows": null,
            "grid_column": null,
            "grid_gap": null,
            "grid_row": null,
            "grid_template_areas": null,
            "grid_template_columns": null,
            "grid_template_rows": null,
            "height": null,
            "justify_content": null,
            "justify_items": null,
            "left": null,
            "margin": null,
            "max_height": null,
            "max_width": null,
            "min_height": null,
            "min_width": null,
            "object_fit": null,
            "object_position": null,
            "order": null,
            "overflow": null,
            "overflow_x": null,
            "overflow_y": null,
            "padding": null,
            "right": null,
            "top": null,
            "visibility": null,
            "width": null
          }
        },
        "a7f99582796a4ab1acc380a54e1f5ad9": {
          "model_module": "@jupyter-widgets/controls",
          "model_name": "DescriptionStyleModel",
          "model_module_version": "1.5.0",
          "state": {
            "_model_module": "@jupyter-widgets/controls",
            "_model_module_version": "1.5.0",
            "_model_name": "DescriptionStyleModel",
            "_view_count": null,
            "_view_module": "@jupyter-widgets/base",
            "_view_module_version": "1.2.0",
            "_view_name": "StyleView",
            "description_width": ""
          }
        },
        "b25469ccaa7046d3a2c6af8e25a674e6": {
          "model_module": "@jupyter-widgets/base",
          "model_name": "LayoutModel",
          "model_module_version": "1.2.0",
          "state": {
            "_model_module": "@jupyter-widgets/base",
            "_model_module_version": "1.2.0",
            "_model_name": "LayoutModel",
            "_view_count": null,
            "_view_module": "@jupyter-widgets/base",
            "_view_module_version": "1.2.0",
            "_view_name": "LayoutView",
            "align_content": null,
            "align_items": null,
            "align_self": null,
            "border": null,
            "bottom": null,
            "display": null,
            "flex": null,
            "flex_flow": null,
            "grid_area": null,
            "grid_auto_columns": null,
            "grid_auto_flow": null,
            "grid_auto_rows": null,
            "grid_column": null,
            "grid_gap": null,
            "grid_row": null,
            "grid_template_areas": null,
            "grid_template_columns": null,
            "grid_template_rows": null,
            "height": null,
            "justify_content": null,
            "justify_items": null,
            "left": null,
            "margin": null,
            "max_height": null,
            "max_width": null,
            "min_height": null,
            "min_width": null,
            "object_fit": null,
            "object_position": null,
            "order": null,
            "overflow": null,
            "overflow_x": null,
            "overflow_y": null,
            "padding": null,
            "right": null,
            "top": null,
            "visibility": null,
            "width": null
          }
        },
        "97e80fb7313c481791f85784da30cab8": {
          "model_module": "@jupyter-widgets/controls",
          "model_name": "ProgressStyleModel",
          "model_module_version": "1.5.0",
          "state": {
            "_model_module": "@jupyter-widgets/controls",
            "_model_module_version": "1.5.0",
            "_model_name": "ProgressStyleModel",
            "_view_count": null,
            "_view_module": "@jupyter-widgets/base",
            "_view_module_version": "1.2.0",
            "_view_name": "StyleView",
            "bar_color": null,
            "description_width": ""
          }
        },
        "67dcc3e8ef90485cbc15dd419d4edfcc": {
          "model_module": "@jupyter-widgets/base",
          "model_name": "LayoutModel",
          "model_module_version": "1.2.0",
          "state": {
            "_model_module": "@jupyter-widgets/base",
            "_model_module_version": "1.2.0",
            "_model_name": "LayoutModel",
            "_view_count": null,
            "_view_module": "@jupyter-widgets/base",
            "_view_module_version": "1.2.0",
            "_view_name": "LayoutView",
            "align_content": null,
            "align_items": null,
            "align_self": null,
            "border": null,
            "bottom": null,
            "display": null,
            "flex": null,
            "flex_flow": null,
            "grid_area": null,
            "grid_auto_columns": null,
            "grid_auto_flow": null,
            "grid_auto_rows": null,
            "grid_column": null,
            "grid_gap": null,
            "grid_row": null,
            "grid_template_areas": null,
            "grid_template_columns": null,
            "grid_template_rows": null,
            "height": null,
            "justify_content": null,
            "justify_items": null,
            "left": null,
            "margin": null,
            "max_height": null,
            "max_width": null,
            "min_height": null,
            "min_width": null,
            "object_fit": null,
            "object_position": null,
            "order": null,
            "overflow": null,
            "overflow_x": null,
            "overflow_y": null,
            "padding": null,
            "right": null,
            "top": null,
            "visibility": null,
            "width": null
          }
        },
        "3b7de90a386d4919ba5d2d97eae5c619": {
          "model_module": "@jupyter-widgets/controls",
          "model_name": "DescriptionStyleModel",
          "model_module_version": "1.5.0",
          "state": {
            "_model_module": "@jupyter-widgets/controls",
            "_model_module_version": "1.5.0",
            "_model_name": "DescriptionStyleModel",
            "_view_count": null,
            "_view_module": "@jupyter-widgets/base",
            "_view_module_version": "1.2.0",
            "_view_name": "StyleView",
            "description_width": ""
          }
        }
      }
    }
  },
  "nbformat": 4,
  "nbformat_minor": 5
}