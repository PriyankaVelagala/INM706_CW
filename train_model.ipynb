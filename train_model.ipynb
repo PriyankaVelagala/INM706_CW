{
  "cells": [
    {
      "cell_type": "code",
      "execution_count": null,
      "metadata": {
        "colab": {
          "base_uri": "https://localhost:8080/"
        },
        "id": "QPCe1BlIEDIZ",
        "outputId": "297136c3-f2c8-4279-a974-1c29778f7b44"
      },
      "outputs": [
        {
          "name": "stdout",
          "output_type": "stream",
          "text": [
            "Collecting transformers\n",
            "  Downloading transformers-4.18.0-py3-none-any.whl (4.0 MB)\n",
            "\u001b[K     |████████████████████████████████| 4.0 MB 4.1 MB/s \n",
            "\u001b[?25hRequirement already satisfied: numpy>=1.17 in /usr/local/lib/python3.7/dist-packages (from transformers) (1.21.6)\n",
            "Requirement already satisfied: requests in /usr/local/lib/python3.7/dist-packages (from transformers) (2.23.0)\n",
            "Collecting pyyaml>=5.1\n",
            "  Downloading PyYAML-6.0-cp37-cp37m-manylinux_2_5_x86_64.manylinux1_x86_64.manylinux_2_12_x86_64.manylinux2010_x86_64.whl (596 kB)\n",
            "\u001b[K     |████████████████████████████████| 596 kB 24.5 MB/s \n",
            "\u001b[?25hRequirement already satisfied: packaging>=20.0 in /usr/local/lib/python3.7/dist-packages (from transformers) (21.3)\n",
            "Requirement already satisfied: tqdm>=4.27 in /usr/local/lib/python3.7/dist-packages (from transformers) (4.64.0)\n",
            "Collecting sacremoses\n",
            "  Downloading sacremoses-0.0.53.tar.gz (880 kB)\n",
            "\u001b[K     |████████████████████████████████| 880 kB 72.1 MB/s \n",
            "\u001b[?25hCollecting huggingface-hub<1.0,>=0.1.0\n",
            "  Downloading huggingface_hub-0.5.1-py3-none-any.whl (77 kB)\n",
            "\u001b[K     |████████████████████████████████| 77 kB 8.5 MB/s \n",
            "\u001b[?25hRequirement already satisfied: regex!=2019.12.17 in /usr/local/lib/python3.7/dist-packages (from transformers) (2019.12.20)\n",
            "Requirement already satisfied: importlib-metadata in /usr/local/lib/python3.7/dist-packages (from transformers) (4.11.3)\n",
            "Collecting tokenizers!=0.11.3,<0.13,>=0.11.1\n",
            "  Downloading tokenizers-0.12.1-cp37-cp37m-manylinux_2_12_x86_64.manylinux2010_x86_64.whl (6.6 MB)\n",
            "\u001b[K     |████████████████████████████████| 6.6 MB 2.5 MB/s \n",
            "\u001b[?25hRequirement already satisfied: filelock in /usr/local/lib/python3.7/dist-packages (from transformers) (3.6.0)\n",
            "Requirement already satisfied: typing-extensions>=3.7.4.3 in /usr/local/lib/python3.7/dist-packages (from huggingface-hub<1.0,>=0.1.0->transformers) (4.2.0)\n",
            "Requirement already satisfied: pyparsing!=3.0.5,>=2.0.2 in /usr/local/lib/python3.7/dist-packages (from packaging>=20.0->transformers) (3.0.8)\n",
            "Requirement already satisfied: zipp>=0.5 in /usr/local/lib/python3.7/dist-packages (from importlib-metadata->transformers) (3.8.0)\n",
            "Requirement already satisfied: certifi>=2017.4.17 in /usr/local/lib/python3.7/dist-packages (from requests->transformers) (2021.10.8)\n",
            "Requirement already satisfied: idna<3,>=2.5 in /usr/local/lib/python3.7/dist-packages (from requests->transformers) (2.10)\n",
            "Requirement already satisfied: chardet<4,>=3.0.2 in /usr/local/lib/python3.7/dist-packages (from requests->transformers) (3.0.4)\n",
            "Requirement already satisfied: urllib3!=1.25.0,!=1.25.1,<1.26,>=1.21.1 in /usr/local/lib/python3.7/dist-packages (from requests->transformers) (1.24.3)\n",
            "Requirement already satisfied: six in /usr/local/lib/python3.7/dist-packages (from sacremoses->transformers) (1.15.0)\n",
            "Requirement already satisfied: click in /usr/local/lib/python3.7/dist-packages (from sacremoses->transformers) (7.1.2)\n",
            "Requirement already satisfied: joblib in /usr/local/lib/python3.7/dist-packages (from sacremoses->transformers) (1.1.0)\n",
            "Building wheels for collected packages: sacremoses\n",
            "  Building wheel for sacremoses (setup.py) ... \u001b[?25l\u001b[?25hdone\n",
            "  Created wheel for sacremoses: filename=sacremoses-0.0.53-py3-none-any.whl size=895260 sha256=9ee410aded1554b47088fa03e8e021467e4891608b456802d52bd15faf21b2f4\n",
            "  Stored in directory: /root/.cache/pip/wheels/87/39/dd/a83eeef36d0bf98e7a4d1933a4ad2d660295a40613079bafc9\n",
            "Successfully built sacremoses\n"
          ]
        }
      ],
      "source": [
        "!pip install transformers\n",
        "from google.colab import drive\n",
        "drive.mount('/content/drive')\n",
        "import sys\n",
        "sys.path.append('/content/drive/MyDrive/Colab Notebooks/sequences/sequences2')"
      ],
      "id": "QPCe1BlIEDIZ"
    },
    {
      "cell_type": "code",
      "execution_count": null,
      "metadata": {
        "colab": {
          "background_save": true
        },
        "id": "59ef23ae-ffd8-49e4-9600-89b3cd1545a1",
        "outputId": "e3b70138-f8c4-4848-b5d0-6d633d0c5997"
      },
      "outputs": [
        {
          "name": "stdout",
          "output_type": "stream",
          "text": [
            "[nltk_data] Downloading package punkt to /root/nltk_data...\n",
            "[nltk_data]   Unzipping tokenizers/punkt.zip.\n"
          ]
        }
      ],
      "source": [
        "import dataset_flickr7k\n",
        "import helper_classes as helper\n",
        "import nltk\n",
        "nltk.download('punkt')\n",
        "import matplotlib.pyplot as plt\n",
        "from torch.utils.data import Dataset, DataLoader\n",
        "from torch.utils import data as data\n",
        "import model\n",
        "import time \n",
        "import torch\n",
        "import torch.nn as nn\n",
        "import torch.optim as optim\n",
        "import pathlib\n",
        "import os "
      ],
      "id": "59ef23ae-ffd8-49e4-9600-89b3cd1545a1"
    },
    {
      "cell_type": "code",
      "execution_count": null,
      "metadata": {
        "colab": {
          "background_save": true
        },
        "id": "7901469e-f468-45c8-a3a8-476d217db4a4"
      },
      "outputs": [],
      "source": [
        "CHECKPOINT_DIRECTORY = \"model_checkpoints\""
      ],
      "id": "7901469e-f468-45c8-a3a8-476d217db4a4"
    },
    {
      "cell_type": "markdown",
      "metadata": {
        "id": "cafd18b8-b7f3-4611-b8bb-d7f2538ac194"
      },
      "source": [
        "# Load Dataset"
      ],
      "id": "cafd18b8-b7f3-4611-b8bb-d7f2538ac194"
    },
    {
      "cell_type": "markdown",
      "metadata": {
        "id": "6e2bfcfc-61cf-4d21-b76e-12921864fdfd"
      },
      "source": [
        "## Train set "
      ],
      "id": "6e2bfcfc-61cf-4d21-b76e-12921864fdfd"
    },
    {
      "cell_type": "code",
      "execution_count": null,
      "metadata": {
        "colab": {
          "background_save": true
        },
        "id": "cf17316c-4306-4804-a985-080e65132d8b",
        "outputId": "971fdcf6-3a84-4f9d-bc04-70b8ac743714"
      },
      "outputs": [
        {
          "name": "stdout",
          "output_type": "stream",
          "text": [
            "length = 7000\n",
            "stage:  train\n",
            "ds_path:  /content/drive/MyDrive/Colab Notebooks/sequences/sequences2\n",
            "captions_f:  /content/drive/MyDrive/Colab Notebooks/sequences/sequences2/results_new.csv\n",
            "imgs_dir:  /content/drive/MyDrive/Colab Notebooks/sequences/sequences2/images_split/train\n",
            "Initialized 7736 words in vocabulary\n",
            "Initialized 35000 images!\n"
          ]
        }
      ],
      "source": [
        "# dataset\n",
        "data_args = {'stage': 'train',\n",
        "            'ds_path' : \"/content/drive/MyDrive/Colab Notebooks/sequences/sequences2\", \n",
        "            'captions_dir': \"\",\n",
        "            'captions_fname': 'results_new.csv',\n",
        "            'images_dir': '/images_split',\n",
        "            'freq_threshold': 5}\n",
        "\n",
        "train_data = dataset_flickr7k.Flickr7kData(**data_args)\n",
        "\n",
        "print(f\"Initialized {len(train_data)} images!\") "
      ],
      "id": "cf17316c-4306-4804-a985-080e65132d8b"
    },
    {
      "cell_type": "markdown",
      "metadata": {
        "id": "b3ec81d1-2ee8-46e1-a4c1-0f6cb74dba39"
      },
      "source": [
        "## Validation set"
      ],
      "id": "b3ec81d1-2ee8-46e1-a4c1-0f6cb74dba39"
    },
    {
      "cell_type": "code",
      "execution_count": null,
      "metadata": {
        "colab": {
          "background_save": true
        },
        "id": "86a858b3-b8ad-41b9-ab56-cb2ec047929c",
        "outputId": "e8e617a6-5f1d-4c4b-868d-c7006bc59019"
      },
      "outputs": [
        {
          "name": "stdout",
          "output_type": "stream",
          "text": [
            "length = 2000\n",
            "stage:  val\n",
            "ds_path:  /content/drive/MyDrive/Colab Notebooks/sequences/sequences2\n",
            "captions_f:  /content/drive/MyDrive/Colab Notebooks/sequences/sequences2/results_new.csv\n",
            "imgs_dir:  /content/drive/MyDrive/Colab Notebooks/sequences/sequences2/images_split/val\n",
            "Initialized 7736 words in vocabulary\n",
            "Initialized 10000 images!\n"
          ]
        }
      ],
      "source": [
        "# dataset\n",
        "data_args = {'stage': 'val',\n",
        "            'ds_path' : \"/content/drive/MyDrive/Colab Notebooks/sequences/sequences2\", \n",
        "            'captions_dir': \"\",\n",
        "            'captions_fname': 'results_new.csv',\n",
        "            'images_dir': '/images_split',\n",
        "            'freq_threshold': 5}\n",
        "\n",
        "val_data = dataset_flickr7k.Flickr7kData(**data_args)\n",
        "\n",
        "print(f\"Initialized {len(val_data)} images!\") "
      ],
      "id": "86a858b3-b8ad-41b9-ab56-cb2ec047929c"
    },
    {
      "cell_type": "markdown",
      "metadata": {
        "id": "aca5677e-231c-4306-b344-c8271a0cb5e3"
      },
      "source": [
        "## Set up data loader"
      ],
      "id": "aca5677e-231c-4306-b344-c8271a0cb5e3"
    },
    {
      "cell_type": "code",
      "execution_count": null,
      "metadata": {
        "colab": {
          "background_save": true
        },
        "id": "4c59ec99-699c-4c05-9ee7-a29de53c96dd"
      },
      "outputs": [],
      "source": [
        "pad_idx = train_data.vocabulary.str_to_idx[\"<PAD>\"]\n",
        "batch_size = 128 \n",
        "\n",
        "train_loader = DataLoader(\n",
        "        dataset=train_data,\n",
        "        batch_size=batch_size,\n",
        "        shuffle=True,\n",
        "        collate_fn=helper.CollateCustom(pad_idx, batch_first=False),\n",
        "    )\n",
        "\n",
        "\n",
        "val_loader = DataLoader (\n",
        "        dataset=val_data,\n",
        "        batch_size=batch_size,\n",
        "        shuffle=True,\n",
        "        collate_fn=helper.CollateCustom(pad_idx, batch_first=False),\n",
        "    )"
      ],
      "id": "4c59ec99-699c-4c05-9ee7-a29de53c96dd"
    },
    {
      "cell_type": "markdown",
      "metadata": {
        "id": "31287546-cae0-48f1-b675-b20e12447584"
      },
      "source": [
        "# Set up hyperparameters"
      ],
      "id": "31287546-cae0-48f1-b675-b20e12447584"
    },
    {
      "cell_type": "code",
      "execution_count": null,
      "metadata": {
        "colab": {
          "background_save": true
        },
        "id": "1743ba45-c53b-45d8-9d26-466d0b3adca8"
      },
      "outputs": [],
      "source": [
        "# Hyperparameters\n",
        "embed_size = 256\n",
        "hidden_size = 256\n",
        "vocab_size = len(train_data.vocabulary) \n",
        "num_layers = 1\n",
        "learning_rate = 3e-4\n",
        "\n",
        "# Don't train CNN from scratch\n",
        "# Tune last layer \n",
        "extract_features = True"
      ],
      "id": "1743ba45-c53b-45d8-9d26-466d0b3adca8"
    },
    {
      "cell_type": "markdown",
      "metadata": {
        "id": "5220663c-d28d-4c40-b7b6-b693b6bede9d"
      },
      "source": [
        "# Initialize Model, Loss & optimizer"
      ],
      "id": "5220663c-d28d-4c40-b7b6-b693b6bede9d"
    },
    {
      "cell_type": "code",
      "execution_count": null,
      "metadata": {
        "colab": {
          "background_save": true
        },
        "id": "2f8b2d37-3de9-453f-9835-3d56ffaa7b77",
        "outputId": "5490998a-fdda-410d-f39e-6d8015d55648"
      },
      "outputs": [
        {
          "data": {
            "text/plain": [
              "device(type='cuda')"
            ]
          },
          "execution_count": null,
          "metadata": {},
          "output_type": "execute_result"
        }
      ],
      "source": [
        "device = torch.device(\"cuda\" if torch.cuda.is_available() else \"cpu\")\n",
        "device"
      ],
      "id": "2f8b2d37-3de9-453f-9835-3d56ffaa7b77"
    },
    {
      "cell_type": "code",
      "execution_count": null,
      "metadata": {
        "colab": {
          "background_save": true,
          "referenced_widgets": [
            "debc33d2fccd4582822c4a4f095fc8b7"
          ]
        },
        "id": "f03012dc-e653-473c-b2cb-00d4d3bf7406",
        "outputId": "02cdce06-69d6-4b7b-e6e6-44cb3fced751"
      },
      "outputs": [
        {
          "name": "stderr",
          "output_type": "stream",
          "text": [
            "Downloading: \"https://download.pytorch.org/models/inception_v3_google-0cc3c7bd.pth\" to /root/.cache/torch/hub/checkpoints/inception_v3_google-0cc3c7bd.pth\n"
          ]
        },
        {
          "data": {
            "application/vnd.jupyter.widget-view+json": {
              "model_id": "debc33d2fccd4582822c4a4f095fc8b7",
              "version_major": 2,
              "version_minor": 0
            },
            "text/plain": [
              "  0%|          | 0.00/104M [00:00<?, ?B/s]"
            ]
          },
          "metadata": {},
          "output_type": "display_data"
        },
        {
          "name": "stdout",
          "output_type": "stream",
          "text": [
            "Initialized Encoder!\n",
            "Initialized Decoder!\n"
          ]
        }
      ],
      "source": [
        "import importlib \n",
        "import model\n",
        "importlib.reload(model)\n",
        "model = model.EncodertoDecoder(embed_size, hidden_size, num_layers, vocab_size, extract_features).to(device)\n",
        "criterion = nn.CrossEntropyLoss(ignore_index=train_data.vocabulary.str_to_idx[\"<PAD>\"])\n",
        "optimizer = optim.Adam(model.parameters(), lr=learning_rate)"
      ],
      "id": "f03012dc-e653-473c-b2cb-00d4d3bf7406"
    },
    {
      "cell_type": "markdown",
      "metadata": {
        "id": "e434ca79-295a-4eff-a49b-3c1d38e41cce"
      },
      "source": [
        "# Train model"
      ],
      "id": "e434ca79-295a-4eff-a49b-3c1d38e41cce"
    },
    {
      "cell_type": "code",
      "execution_count": 10,
      "metadata": {
        "colab": {
          "base_uri": "https://localhost:8080/"
        },
        "id": "f1ff3267-b774-405b-8380-cea752162718",
        "outputId": "b83006d2-b6e3-4836-8942-8c135b770b98"
      },
      "outputs": [
        {
          "output_type": "stream",
          "name": "stdout",
          "text": [
            "Training loss after 1 epochs: 5.068240644287889\n",
            "Validation loss after 1 epochs: 4.224092154563228\n",
            "Training loss after 2 epochs: 4.020158708530621\n",
            "Validation loss after 2 epochs: 3.8932012425193303\n",
            "Training loss after 3 epochs: 3.7715894070855023\n",
            "Validation loss after 3 epochs: 3.720615299442146\n",
            "Training loss after 4 epochs: 3.627054266685987\n",
            "Validation loss after 4 epochs: 3.619351266305658\n",
            "Training loss after 5 epochs: 3.5277804788881846\n",
            "Validation loss after 5 epochs: 3.544750098940692\n",
            "Time elapsed: 64.48 min\n",
            "Saved checkpoint basic_model_5_epochs.pth!\n",
            "Training loss after 6 epochs: 3.4523822826190584\n",
            "Validation loss after 6 epochs: 3.4876736568499216\n",
            "Training loss after 7 epochs: 3.390390101140433\n",
            "Validation loss after 7 epochs: 3.4422015660925758\n",
            "Training loss after 8 epochs: 3.337780218924919\n",
            "Validation loss after 8 epochs: 3.4020636504209496\n",
            "Training loss after 9 epochs: 3.2908561186198773\n",
            "Validation loss after 9 epochs: 3.3709760164912743\n",
            "Training loss after 10 epochs: 3.2490152755792994\n",
            "Validation loss after 10 epochs: 3.3379545091073726\n",
            "Time elapsed: 106.22 min\n",
            "Saved checkpoint basic_model_10_epochs.pth!\n",
            "Training loss after 11 epochs: 3.208392802816238\n",
            "Validation loss after 11 epochs: 3.2998411172552955\n",
            "Training loss after 12 epochs: 3.1654558225269733\n",
            "Validation loss after 12 epochs: 3.269978517218481\n",
            "Training loss after 13 epochs: 3.126507003812024\n",
            "Validation loss after 13 epochs: 3.2401070594787598\n",
            "Training loss after 14 epochs: 3.0924756805392075\n",
            "Validation loss after 14 epochs: 3.2234223492537875\n",
            "Training loss after 15 epochs: 3.0625066391743014\n",
            "Validation loss after 15 epochs: 3.198465688319146\n",
            "Time elapsed: 148.0 min\n",
            "Saved checkpoint basic_model_15_epochs.pth!\n",
            "Training loss after 16 epochs: 3.0335935658782067\n",
            "Validation loss after 16 epochs: 3.176684035530573\n",
            "Training loss after 17 epochs: 3.0066041754980155\n",
            "Validation loss after 17 epochs: 3.1662403933609586\n",
            "Training loss after 18 epochs: 2.980791071905707\n",
            "Validation loss after 18 epochs: 3.147098447703108\n",
            "Training loss after 19 epochs: 2.9562862415383333\n",
            "Validation loss after 19 epochs: 3.1357345792311655\n",
            "Training loss after 20 epochs: 2.9345527852538726\n",
            "Validation loss after 20 epochs: 3.119506325902818\n",
            "Time elapsed: 189.84 min\n",
            "Saved checkpoint basic_model_20_epochs.pth!\n",
            "Training loss after 21 epochs: 2.9117900115730118\n",
            "Validation loss after 21 epochs: 3.1134782471234286\n",
            "Training loss after 22 epochs: 2.890982965483283\n",
            "Validation loss after 22 epochs: 3.1017174177531954\n",
            "Training loss after 23 epochs: 2.871919149029864\n",
            "Validation loss after 23 epochs: 3.081649834596658\n",
            "Training loss after 24 epochs: 2.8520633469532877\n",
            "Validation loss after 24 epochs: 3.079776054696192\n",
            "Training loss after 25 epochs: 2.83422199740027\n",
            "Validation loss after 25 epochs: 3.0703340180312533\n",
            "Time elapsed: 231.68 min\n",
            "Saved checkpoint basic_model_25_epochs.pth!\n",
            "Training loss after 26 epochs: 2.817102257352676\n",
            "Validation loss after 26 epochs: 3.0652734750433814\n",
            "Training loss after 27 epochs: 2.799501826293277\n",
            "Validation loss after 27 epochs: 3.0556214248077778\n",
            "Training loss after 28 epochs: 2.783602890307016\n",
            "Validation loss after 28 epochs: 3.0470328934584994\n",
            "Training loss after 29 epochs: 2.768033156429764\n",
            "Validation loss after 29 epochs: 3.0477190742009803\n",
            "Early Stopping Trigger Count:  1\n",
            "Training loss after 30 epochs: 2.7518815593997927\n",
            "Validation loss after 30 epochs: 3.0404208762736262\n",
            "Time elapsed: 273.56 min\n",
            "Saved checkpoint basic_model_30_epochs.pth!\n",
            "Training loss after 31 epochs: 2.738047892159789\n",
            "Validation loss after 31 epochs: 3.0396055843256695\n",
            "Training loss after 32 epochs: 2.724629617085422\n",
            "Validation loss after 32 epochs: 3.03344266927695\n",
            "Training loss after 33 epochs: 2.7112822950321394\n",
            "Validation loss after 33 epochs: 3.0259546992145006\n",
            "Training loss after 34 epochs: 2.697628357984724\n",
            "Validation loss after 34 epochs: 3.021148023726065\n",
            "Training loss after 35 epochs: 2.6847604617585232\n",
            "Validation loss after 35 epochs: 3.0175638440289076\n",
            "Time elapsed: 315.5 min\n",
            "Saved checkpoint basic_model_35_epochs.pth!\n",
            "Training loss after 36 epochs: 2.6728597209401372\n",
            "Validation loss after 36 epochs: 3.0183240280875676\n",
            "Early Stopping Trigger Count:  2\n",
            "Training loss after 37 epochs: 2.6619252401546842\n",
            "Validation loss after 37 epochs: 3.015530595296546\n",
            "Training loss after 38 epochs: 2.6491346106912097\n",
            "Validation loss after 38 epochs: 3.012417811381666\n",
            "Training loss after 39 epochs: 2.6379947966902795\n",
            "Validation loss after 39 epochs: 3.0093148478978797\n",
            "Training loss after 40 epochs: 2.627497759178607\n",
            "Validation loss after 40 epochs: 3.0026578661761705\n",
            "Time elapsed: 357.42 min\n",
            "Saved checkpoint basic_model_40_epochs.pth!\n",
            "Training loss after 41 epochs: 2.6165790218506415\n",
            "Validation loss after 41 epochs: 3.0037069079242174\n",
            "Early Stopping Trigger Count:  3\n",
            "Saved model basic_model.pth!\n",
            "Early Stopping!\n",
            "Time elapsed for 41 epochs: 365.85 min\n",
            "loss:  2.7903807163238525\n"
          ]
        }
      ],
      "source": [
        "CHECKPOINT_DIRECTORY = \"model_checkpoints\"\n",
        "\n",
        "model.train()\n",
        "\n",
        "start = 1\n",
        "num_epochs = 70  \n",
        "losses = [] \n",
        "losses_val = []\n",
        "\n",
        "time_start = time.time() \n",
        "\n",
        "restore_latest_checkpoint = False\n",
        "\n",
        "if restore_latest_checkpoint:\n",
        "    #find last checkpoint file based on last modified \n",
        "    all_files = pathlib.Path(CHECKPOINT_DIRECTORY).glob('*.pth')\n",
        "    latest_file = max(all_files, key=os.path.getctime)\n",
        "    checkpoint_file = str(latest_file).split(\"/\")[1]\n",
        "    \n",
        "    #adjust epoch range\n",
        "    start = int(checkpoint_file.split(\"_\")[2]) + 1 \n",
        "    num_epochs += start \n",
        "    \n",
        "    #load checkpoint \n",
        "    helper.load_checkpoint(checkpoint_file, model, optimizer)\n",
        "\n",
        "  \n",
        "\"\"\"\n",
        "Training\n",
        "\"\"\"\n",
        "# Early stopping variables\n",
        "previous_loss = 50\n",
        "triggered = 0\n",
        "\n",
        "for epoch in range(start, num_epochs+1):\n",
        "    model.train()\n",
        "\n",
        "    batch_loss = 0 \n",
        "    avg_batch_loss = 0 \n",
        "\n",
        "    for batch_num, (idx, X, y) in enumerate(train_loader):\n",
        "        X = X.to(device)\n",
        "        y = y.to(device)\n",
        "\n",
        "        outputs = model(X, y[:-1])\n",
        "        \n",
        "        loss = criterion(\n",
        "            outputs.reshape(-1, outputs.shape[2]), y.reshape(-1)\n",
        "        )\n",
        "\n",
        "        optimizer.zero_grad()\n",
        "        loss.backward(loss)\n",
        "        optimizer.step()\n",
        "        \n",
        "        batch_loss += loss.item()\n",
        "\n",
        "    avg_batch_loss = batch_loss/(batch_num+1)\n",
        "                \n",
        "    \"\"\"\n",
        "    Validation\n",
        "    \"\"\"\n",
        "    # run validation set to see find loss \n",
        "    batch_loss_val = 0 \n",
        "    avg_batch_loss_val = 0 \n",
        "    with torch.no_grad(): \n",
        "        for batch_num_val, (idx_val, X_val, y_val) in enumerate(val_loader):\n",
        "            X_val = X_val.to(device)\n",
        "            y_val = y_val.to(device)\n",
        "\n",
        "\n",
        "            #calculate loss\n",
        "            out_val = model(X_val, y_val[:-1])\n",
        "            loss_val = criterion(out_val.reshape(-1, out_val.shape[2]), y_val.reshape(-1))\n",
        "            \n",
        "            batch_loss_val += loss_val.item()\n",
        "\n",
        "\n",
        "    avg_batch_loss_val = batch_loss_val/(batch_num_val+1)\n",
        "\n",
        "    # save loss after every epoch\n",
        "    losses.append([avg_batch_loss, avg_batch_loss_val])\n",
        "\n",
        "    print(f\"Training loss after {epoch} epochs: {avg_batch_loss}\")\n",
        "    print(f'Validation loss after {epoch} epochs: {avg_batch_loss_val}')\n",
        "        \n",
        "    \"\"\"\n",
        "    Save checkpoints\n",
        "    \"\"\" \n",
        "    if epoch%5 == 0:\n",
        "        print(\"Time elapsed: {} min\".format((round((time.time()-time_start)/60, 2))))\n",
        "        checkpoint = {\"state_dict\": model.state_dict(),\n",
        "                    \"optimizer\": optimizer.state_dict(),\n",
        "                    \"step\": epoch\n",
        "                    }\n",
        "        fname = \"basic_model_\" + str(epoch) + \"_epochs.pth\" \n",
        "        helper.save_checkpoint(checkpoint, fname)\n",
        "\n",
        "\n",
        "    \"\"\"    \n",
        "    Early stopping\n",
        "    \"\"\"\n",
        "    current_loss = avg_batch_loss_val\n",
        "\n",
        "    if current_loss > previous_loss:\n",
        "        triggered += 1\n",
        "        print('Early Stopping Trigger Count: ', triggered)\n",
        "\n",
        "        if triggered >= 3:\n",
        "            helper.save_model(model.state_dict(), \"basic_model.pth\")\n",
        "            print('Early Stopping!')\n",
        "            break;\n",
        "\n",
        "    previous_loss = current_loss\n",
        "    \n",
        "    #for final epoch \n",
        "    if epoch == num_epochs: \n",
        "        helper.save_model(model.state_dict(), \"basic_model.pth\")\n",
        "             \n",
        "print(\"Time elapsed for {} epochs: {} min\".format(epoch, \n",
        "                                                  round((time.time()-time_start)/60, 2)))"
      ],
      "id": "f1ff3267-b774-405b-8380-cea752162718"
    },
    {
      "cell_type": "markdown",
      "metadata": {
        "id": "ceb8c7b3-5a7f-468b-b8b3-23b93e385e2d"
      },
      "source": [
        "## Plot loss "
      ],
      "id": "ceb8c7b3-5a7f-468b-b8b3-23b93e385e2d"
    },
    {
      "cell_type": "code",
      "execution_count": 13,
      "metadata": {
        "id": "b994380c-aa85-4509-bba9-43a452b78039",
        "colab": {
          "base_uri": "https://localhost:8080/",
          "height": 321
        },
        "outputId": "17f41112-d0a7-4538-fa80-0fa44618f5af"
      },
      "outputs": [
        {
          "output_type": "execute_result",
          "data": {
            "text/plain": [
              "Text(0, 0.5, 'Loss')"
            ]
          },
          "metadata": {},
          "execution_count": 13
        },
        {
          "output_type": "display_data",
          "data": {
            "text/plain": [
              "<Figure size 432x288 with 1 Axes>"
            ],
            "image/png": "[encoded data removed]"
          },
          "metadata": {}
        }
      ],
      "source": [
        "import matplotlib.pyplot as plt \n",
        "import seaborn as sns \n",
        "import pandas as pd\n",
        "sns.set() \n",
        "\n",
        "restore_latest_checkpoint = False\n",
        "\n",
        "if restore_latest_checkpoint: \n",
        "    #add to existing losses \n",
        "    old_losses = pd.read_csv('loss.csv')[[\"epochs\", \"loss\", \"loss_val\"]]\n",
        "    start_index = old_losses.epochs.max() + 1\n",
        "    new_data = [[start_index+i, losses[i][0], losses[i][1]] for i in range(len(losses))]\n",
        "    new_losses = pd.DataFrame(new_data, columns = [\"epochs\", \"loss\", \"loss_val\"])\n",
        "    loss_df = pd.concat([old_losses, new_losses], keys = [\"epochs\", \"loss\", \"loss_val\"]).reset_index(drop = True)\n",
        "    \n",
        "else:\n",
        "    #create new df \n",
        "    loss_df = pd.DataFrame(losses, columns = ['loss', \"loss_val\"])\n",
        "    loss_df = loss_df.reset_index().rename(columns= {'index': 'epochs'})\n",
        "    \n",
        "loss_df.to_csv(\"/content/drive/MyDrive/Colab Notebooks/sequences/sequences2/loss.csv\")\n",
        "\n",
        "loss_df\n",
        "p = sns.lineplot(data= loss_df.iloc[:, 1:])\n",
        "p.set(title='Baseline')\n",
        "p.set_xlabel(\"Epoch\", fontsize = 15)\n",
        "p.set_ylabel(\"Loss\", fontsize=15)"
      ],
      "id": "b994380c-aa85-4509-bba9-43a452b78039"
    },
    {
      "cell_type": "code",
      "execution_count": null,
      "metadata": {
        "id": "5Rg6fILlhrj4"
      },
      "outputs": [],
      "source": [
        ""
      ],
      "id": "5Rg6fILlhrj4"
    }
  ],
  "metadata": {
    "accelerator": "GPU",
    "colab": {
      "background_execution": "on",
      "collapsed_sections": [],
      "name": "train_model.ipynb",
      "provenance": []
    },
    "kernelspec": {
      "display_name": "Python 3 (ipykernel)",
      "language": "python",
      "name": "python3"
    },
    "language_info": {
      "codemirror_mode": {
        "name": "ipython",
        "version": 3
      },
      "file_extension": ".py",
      "mimetype": "text/x-python",
      "name": "python",
      "nbconvert_exporter": "python",
      "pygments_lexer": "ipython3",
      "version": "3.8.12"
    }
  },
  "nbformat": 4,
  "nbformat_minor": 5
}