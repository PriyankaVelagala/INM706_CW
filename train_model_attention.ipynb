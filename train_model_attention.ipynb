{
  "cells": [
    {
      "cell_type": "code",
      "execution_count": null,
      "metadata": {
        "colab": {
          "base_uri": "https://localhost:8080/"
        },
        "id": "avA4_tExC8p_",
        "outputId": "fbdfb5f8-6132-4bc6-abd8-c8aa95e21e5e"
      },
      "outputs": [
        {
          "name": "stdout",
          "output_type": "stream",
          "text": [
            "Requirement already satisfied: transformers in /usr/local/lib/python3.7/dist-packages (4.18.0)\n",
            "Requirement already satisfied: regex!=2019.12.17 in /usr/local/lib/python3.7/dist-packages (from transformers) (2019.12.20)\n",
            "Requirement already satisfied: tokenizers!=0.11.3,<0.13,>=0.11.1 in /usr/local/lib/python3.7/dist-packages (from transformers) (0.12.1)\n",
            "Requirement already satisfied: sacremoses in /usr/local/lib/python3.7/dist-packages (from transformers) (0.0.53)\n",
            "Requirement already satisfied: requests in /usr/local/lib/python3.7/dist-packages (from transformers) (2.23.0)\n",
            "Requirement already satisfied: filelock in /usr/local/lib/python3.7/dist-packages (from transformers) (3.6.0)\n",
            "Requirement already satisfied: tqdm>=4.27 in /usr/local/lib/python3.7/dist-packages (from transformers) (4.64.0)\n",
            "Requirement already satisfied: numpy>=1.17 in /usr/local/lib/python3.7/dist-packages (from transformers) (1.21.6)\n",
            "Requirement already satisfied: packaging>=20.0 in /usr/local/lib/python3.7/dist-packages (from transformers) (21.3)\n",
            "Requirement already satisfied: huggingface-hub<1.0,>=0.1.0 in /usr/local/lib/python3.7/dist-packages (from transformers) (0.5.1)\n",
            "Requirement already satisfied: importlib-metadata in /usr/local/lib/python3.7/dist-packages (from transformers) (4.11.3)\n",
            "Requirement already satisfied: pyyaml>=5.1 in /usr/local/lib/python3.7/dist-packages (from transformers) (6.0)\n",
            "Requirement already satisfied: typing-extensions>=3.7.4.3 in /usr/local/lib/python3.7/dist-packages (from huggingface-hub<1.0,>=0.1.0->transformers) (4.2.0)\n",
            "Requirement already satisfied: pyparsing!=3.0.5,>=2.0.2 in /usr/local/lib/python3.7/dist-packages (from packaging>=20.0->transformers) (3.0.8)\n",
            "Requirement already satisfied: zipp>=0.5 in /usr/local/lib/python3.7/dist-packages (from importlib-metadata->transformers) (3.8.0)\n",
            "Requirement already satisfied: urllib3!=1.25.0,!=1.25.1,<1.26,>=1.21.1 in /usr/local/lib/python3.7/dist-packages (from requests->transformers) (1.24.3)\n",
            "Requirement already satisfied: certifi>=2017.4.17 in /usr/local/lib/python3.7/dist-packages (from requests->transformers) (2021.10.8)\n",
            "Requirement already satisfied: idna<3,>=2.5 in /usr/local/lib/python3.7/dist-packages (from requests->transformers) (2.10)\n",
            "Requirement already satisfied: chardet<4,>=3.0.2 in /usr/local/lib/python3.7/dist-packages (from requests->transformers) (3.0.4)\n",
            "Requirement already satisfied: six in /usr/local/lib/python3.7/dist-packages (from sacremoses->transformers) (1.15.0)\n",
            "Requirement already satisfied: joblib in /usr/local/lib/python3.7/dist-packages (from sacremoses->transformers) (1.1.0)\n",
            "Requirement already satisfied: click in /usr/local/lib/python3.7/dist-packages (from sacremoses->transformers) (7.1.2)\n",
            "Drive already mounted at /content/drive; to attempt to forcibly remount, call drive.mount(\"/content/drive\", force_remount=True).\n"
          ]
        }
      ],
      "source": [
        "!pip install transformers\n",
        "from google.colab import drive\n",
        "drive.mount('/content/drive')\n",
        "import sys\n",
        "sys.path.append('/content/drive/MyDrive/Colab Notebooks/sequences/sequences2')"
      ],
      "id": "avA4_tExC8p_"
    },
    {
      "cell_type": "code",
      "execution_count": null,
      "metadata": {
        "colab": {
          "base_uri": "https://localhost:8080/"
        },
        "id": "59ef23ae-ffd8-49e4-9600-89b3cd1545a1",
        "outputId": "487e1ad0-c5f8-4801-f6b5-dbc6b3857b3e"
      },
      "outputs": [
        {
          "name": "stdout",
          "output_type": "stream",
          "text": [
            "[nltk_data] Downloading package punkt to /root/nltk_data...\n",
            "[nltk_data]   Package punkt is already up-to-date!\n"
          ]
        }
      ],
      "source": [
        "import dataset_flickr\n",
        "import dataset_flickr7k\n",
        "import helper_classes as helper\n",
        "import nltk\n",
        "nltk.download('punkt')\n",
        "import matplotlib.pyplot as plt\n",
        "from torch.utils.data import Dataset, DataLoader\n",
        "from torch.utils import data as data\n",
        "\n",
        "import time \n",
        "import torch\n",
        "import torch.nn as nn\n",
        "import torch.optim as optim\n",
        "import pathlib\n",
        "\n",
        "import os "
      ],
      "id": "59ef23ae-ffd8-49e4-9600-89b3cd1545a1"
    },
    {
      "cell_type": "code",
      "execution_count": null,
      "metadata": {
        "id": "7901469e-f468-45c8-a3a8-476d217db4a4"
      },
      "outputs": [],
      "source": [
        "CHECKPOINT_DIRECTORY = \"model_checkpoints\""
      ],
      "id": "7901469e-f468-45c8-a3a8-476d217db4a4"
    },
    {
      "cell_type": "markdown",
      "metadata": {
        "id": "cafd18b8-b7f3-4611-b8bb-d7f2538ac194"
      },
      "source": [
        "# Load Dataset"
      ],
      "id": "cafd18b8-b7f3-4611-b8bb-d7f2538ac194"
    },
    {
      "cell_type": "markdown",
      "metadata": {
        "id": "6e2bfcfc-61cf-4d21-b76e-12921864fdfd"
      },
      "source": [
        "## Train set "
      ],
      "id": "6e2bfcfc-61cf-4d21-b76e-12921864fdfd"
    },
    {
      "cell_type": "code",
      "execution_count": null,
      "metadata": {
        "colab": {
          "base_uri": "https://localhost:8080/"
        },
        "id": "cf17316c-4306-4804-a985-080e65132d8b",
        "outputId": "54527f09-a929-429b-940d-5ff15f1fe373"
      },
      "outputs": [
        {
          "name": "stdout",
          "output_type": "stream",
          "text": [
            "length = 6999\n",
            "stage:  train\n",
            "ds_path:  /content/drive/MyDrive/Colab Notebooks/sequences/sequences2\n",
            "captions_f:  /content/drive/MyDrive/Colab Notebooks/sequences/sequences2/results_new.csv\n",
            "imgs_dir:  /content/drive/MyDrive/Colab Notebooks/sequences/sequences2/images_split/train\n",
            "Initialized 7736 words in vocabulary\n",
            "Initialized 34995 images!\n"
          ]
        }
      ],
      "source": [
        "import importlib \n",
        "importlib.reload(dataset_flickr7k)\n",
        "# dataset\n",
        "data_args = {'stage': 'train',\n",
        "            'ds_path' : \"/content/drive/MyDrive/Colab Notebooks/sequences/sequences2\", \n",
        "            'captions_dir': \"\",\n",
        "            'captions_fname': 'results_new.csv',\n",
        "            'images_dir': '/images_split',\n",
        "            'freq_threshold': 5}\n",
        "#train_data = dataset_flickr.Flickr30kData(**data_args)\n",
        "train_data = dataset_flickr7k.Flickr7kData(**data_args)\n",
        "\n",
        "print(f\"Initialized {len(train_data)} images!\") "
      ],
      "id": "cf17316c-4306-4804-a985-080e65132d8b"
    },
    {
      "cell_type": "markdown",
      "metadata": {
        "id": "b3ec81d1-2ee8-46e1-a4c1-0f6cb74dba39"
      },
      "source": [
        "## Validation set"
      ],
      "id": "b3ec81d1-2ee8-46e1-a4c1-0f6cb74dba39"
    },
    {
      "cell_type": "code",
      "execution_count": null,
      "metadata": {
        "colab": {
          "base_uri": "https://localhost:8080/"
        },
        "id": "86a858b3-b8ad-41b9-ab56-cb2ec047929c",
        "outputId": "ae7cc02f-3428-445d-c9c0-ca65cd8f540d"
      },
      "outputs": [
        {
          "name": "stdout",
          "output_type": "stream",
          "text": [
            "length = 1000\n",
            "stage:  val\n",
            "ds_path:  /content/drive/MyDrive/Colab Notebooks/sequences/sequences2\n",
            "captions_f:  /content/drive/MyDrive/Colab Notebooks/sequences/sequences2/results_new.csv\n",
            "imgs_dir:  /content/drive/MyDrive/Colab Notebooks/sequences/sequences2/images_split/val\n",
            "Initialized 7736 words in vocabulary\n",
            "Initialized 5000 images!\n"
          ]
        }
      ],
      "source": [
        "# dataset\n",
        "data_args = {'stage': 'val',\n",
        "            'ds_path' : \"/content/drive/MyDrive/Colab Notebooks/sequences/sequences2\", \n",
        "            'captions_dir': \"\",\n",
        "            'captions_fname': 'results_new.csv',\n",
        "            'images_dir': '/images_split',\n",
        "            'freq_threshold': 5}\n",
        "#val_data = dataset_flickr.Flickr30kData(**data_args)\n",
        "val_data = dataset_flickr7k.Flickr7kData(**data_args)\n",
        "\n",
        "print(f\"Initialized {len(val_data)} images!\") "
      ],
      "id": "86a858b3-b8ad-41b9-ab56-cb2ec047929c"
    },
    {
      "cell_type": "markdown",
      "metadata": {
        "id": "5793dbfa-59e8-4ac0-803d-dec56696d361"
      },
      "source": [
        "## Test set"
      ],
      "id": "5793dbfa-59e8-4ac0-803d-dec56696d361"
    },
    {
      "cell_type": "code",
      "execution_count": null,
      "metadata": {
        "colab": {
          "base_uri": "https://localhost:8080/"
        },
        "id": "748d2af7-663e-48d8-9c21-fc9e4eb30bdc",
        "outputId": "67f78f02-0beb-479b-c8c6-a11eebed42f6"
      },
      "outputs": [
        {
          "name": "stdout",
          "output_type": "stream",
          "text": [
            "length = 2000\n",
            "stage:  test\n",
            "ds_path:  /content/drive/MyDrive/Colab Notebooks/sequences/sequences2\n",
            "captions_f:  /content/drive/MyDrive/Colab Notebooks/sequences/sequences2/results_new.csv\n",
            "imgs_dir:  /content/drive/MyDrive/Colab Notebooks/sequences/sequences2/images_split/test\n",
            "Initialized 7736 words in vocabulary\n",
            "Initialized 10000 images!\n"
          ]
        }
      ],
      "source": [
        "# dataset\n",
        "data_args = {'stage': 'test',\n",
        "            'ds_path' : \"/content/drive/MyDrive/Colab Notebooks/sequences/sequences2\", \n",
        "            'captions_dir': \"\",\n",
        "            'captions_fname': 'results_new.csv',\n",
        "            'images_dir': '/images_split',\n",
        "            'freq_threshold': 5}\n",
        "#test_data = dataset_flickr.Flickr30kData(**data_args)\n",
        "test_data = dataset_flickr7k.Flickr7kData(**data_args)\n",
        "\n",
        "print(f\"Initialized {len(test_data)} images!\") "
      ],
      "id": "748d2af7-663e-48d8-9c21-fc9e4eb30bdc"
    },
    {
      "cell_type": "markdown",
      "metadata": {
        "id": "aca5677e-231c-4306-b344-c8271a0cb5e3"
      },
      "source": [
        "## Set up data loader"
      ],
      "id": "aca5677e-231c-4306-b344-c8271a0cb5e3"
    },
    {
      "cell_type": "code",
      "execution_count": null,
      "metadata": {
        "id": "4c59ec99-699c-4c05-9ee7-a29de53c96dd"
      },
      "outputs": [],
      "source": [
        "pad_idx = train_data.vocabulary.str_to_idx[\"<PAD>\"]\n",
        "batch_size = 128\n",
        "\n",
        "train_loader = DataLoader(\n",
        "        dataset=train_data,\n",
        "        batch_size=batch_size,\n",
        "        shuffle=True,\n",
        "        collate_fn=helper.CollateCustom(pad_idx),\n",
        "    )\n",
        "\n",
        "\n",
        "val_loader = DataLoader (\n",
        "        dataset=val_data,\n",
        "        batch_size=batch_size,\n",
        "        shuffle=True,\n",
        "        collate_fn=helper.CollateCustom(pad_idx),\n",
        "    )\n",
        "\n",
        "\n",
        "test_loader = DataLoader(\n",
        "        dataset=test_data,\n",
        "        batch_size=  1,\n",
        "        shuffle=True,\n",
        "    )\n"
      ],
      "id": "4c59ec99-699c-4c05-9ee7-a29de53c96dd"
    },
    {
      "cell_type": "code",
      "execution_count": null,
      "metadata": {
        "colab": {
          "base_uri": "https://localhost:8080/"
        },
        "id": "2f8b2d37-3de9-453f-9835-3d56ffaa7b77",
        "outputId": "ce241484-8bb1-4e1d-c3e2-2de5041583d7"
      },
      "outputs": [
        {
          "data": {
            "text/plain": [
              "device(type='cuda')"
            ]
          },
          "execution_count": 8,
          "metadata": {},
          "output_type": "execute_result"
        }
      ],
      "source": [
        "device = torch.device(\"cuda\" if torch.cuda.is_available() else \"cpu\")\n",
        "device"
      ],
      "id": "2f8b2d37-3de9-453f-9835-3d56ffaa7b77"
    },
    {
      "cell_type": "markdown",
      "metadata": {
        "id": "p7HDCsOE1rqr"
      },
      "source": [
        "# Attention\n"
      ],
      "id": "p7HDCsOE1rqr"
    },
    {
      "cell_type": "markdown",
      "metadata": {
        "id": "31287546-cae0-48f1-b675-b20e12447584"
      },
      "source": [
        "## Set up hyperparameters"
      ],
      "id": "31287546-cae0-48f1-b675-b20e12447584"
    },
    {
      "cell_type": "code",
      "execution_count": null,
      "metadata": {
        "id": "1743ba45-c53b-45d8-9d26-466d0b3adca8"
      },
      "outputs": [],
      "source": [
        "\"\"\"\n",
        "TODO:\n",
        "- need to figure out train/val batch size \n",
        "- caption length - how to set this param? \n",
        "\"\"\"\n",
        "# Hyperparameters\n",
        "embed_size = 256\n",
        "hidden_size = 512 #256\n",
        "attn_dim = 256 \n",
        "vocab_size = len(train_data.vocabulary) #len(train_data.vocabulary)\n",
        "num_layers = 1\n",
        "\n",
        "learning_rate = 3e-4"
      ],
      "id": "1743ba45-c53b-45d8-9d26-466d0b3adca8"
    },
    {
      "cell_type": "markdown",
      "metadata": {
        "id": "5220663c-d28d-4c40-b7b6-b693b6bede9d"
      },
      "source": [
        "## Initialize Model, Loss & optimizer"
      ],
      "id": "5220663c-d28d-4c40-b7b6-b693b6bede9d"
    },
    {
      "cell_type": "code",
      "execution_count": null,
      "metadata": {
        "colab": {
          "base_uri": "https://localhost:8080/"
        },
        "id": "e37f3d7f-cf36-4574-9212-5c85de4e3a83",
        "outputId": "016b4ad9-c302-4266-9714-192c9b70cf82"
      },
      "outputs": [
        {
          "data": {
            "text/plain": [
              "<module 'model_attn_2' from '/content/drive/MyDrive/Colab Notebooks/sequences/sequences2/model_attn_2.py'>"
            ]
          },
          "execution_count": 10,
          "metadata": {},
          "output_type": "execute_result"
        }
      ],
      "source": [
        "import importlib \n",
        "#import model_attention as model_attn\n",
        "import model_attn_2 as model_attn\n",
        "importlib.reload(model_attn)"
      ],
      "id": "e37f3d7f-cf36-4574-9212-5c85de4e3a83"
    },
    {
      "cell_type": "code",
      "execution_count": null,
      "metadata": {
        "colab": {
          "base_uri": "https://localhost:8080/"
        },
        "id": "f03012dc-e653-473c-b2cb-00d4d3bf7406",
        "outputId": "635ce3ba-6576-48f3-8568-e3f65170f6ad"
      },
      "outputs": [
        {
          "name": "stdout",
          "output_type": "stream",
          "text": [
            "Initialized Encoder!\n",
            "Initialized Decoder!\n"
          ]
        }
      ],
      "source": [
        "model = model_attn.EncodertoDecoder(embed_size, hidden_size, num_layers, vocab_size, attn_dim).to(device)\n",
        "criterion = nn.CrossEntropyLoss(ignore_index=train_data.vocabulary.str_to_idx[\"<PAD>\"])\n",
        "optimizer = optim.Adam(model.parameters(), lr=learning_rate)"
      ],
      "id": "f03012dc-e653-473c-b2cb-00d4d3bf7406"
    },
    {
      "cell_type": "code",
      "execution_count": null,
      "metadata": {
        "id": "037580db-db3a-4460-9723-ae9126abad63"
      },
      "outputs": [],
      "source": [
        "idx, X, y= next(iter(train_loader))"
      ],
      "id": "037580db-db3a-4460-9723-ae9126abad63"
    },
    {
      "cell_type": "markdown",
      "metadata": {
        "id": "e434ca79-295a-4eff-a49b-3c1d38e41cce"
      },
      "source": [
        "## Train model"
      ],
      "id": "e434ca79-295a-4eff-a49b-3c1d38e41cce"
    },
    {
      "cell_type": "markdown",
      "metadata": {
        "id": "OSqa2Zjb165r"
      },
      "source": [
        ""
      ],
      "id": "OSqa2Zjb165r"
    },
    {
      "cell_type": "code",
      "execution_count": null,
      "metadata": {
        "colab": {
          "background_save": true,
          "base_uri": "https://localhost:8080/"
        },
        "id": "f1ff3267-b774-405b-8380-cea752162718",
        "outputId": "bdffdd51-9b7f-4d4b-acfd-1c3b01e1273f"
      },
      "outputs": [
        {
          "name": "stdout",
          "output_type": "stream",
          "text": [
            "Training loss after 1 epochs: 4.454128265380859\n",
            "Validation loss after 1 epochs: 4.163434028625488\n",
            "Training loss after 2 epochs: 4.029056072235107\n",
            "Validation loss after 2 epochs: 3.9817214012145996\n",
            "Training loss after 3 epochs: 3.811450719833374\n",
            "Validation loss after 3 epochs: 3.291828155517578\n",
            "Training loss after 4 epochs: 3.506115198135376\n",
            "Validation loss after 4 epochs: 3.761847972869873\n",
            "Training loss after 5 epochs: 3.4453299045562744\n",
            "Validation loss after 5 epochs: 3.5294666290283203\n",
            "Time elapsed: 41.97 min\n",
            "Saved checkpoint attention_model_5_epochs.pth!\n",
            "Training loss after 6 epochs: 3.3046748638153076\n",
            "Validation loss after 6 epochs: 3.380574941635132\n",
            "Training loss after 7 epochs: 3.3923192024230957\n",
            "Validation loss after 7 epochs: 3.1649856567382812\n",
            "Training loss after 8 epochs: 3.3166940212249756\n",
            "Validation loss after 8 epochs: 3.3842973709106445\n",
            "Training loss after 9 epochs: 3.0870521068573\n",
            "Validation loss after 9 epochs: 3.5726006031036377\n",
            "Training loss after 10 epochs: 3.1954686641693115\n",
            "Validation loss after 10 epochs: 3.329319715499878\n",
            "Time elapsed: 81.96 min\n",
            "Saved checkpoint attention_model_10_epochs.pth!\n",
            "Training loss after 11 epochs: 2.872232675552368\n",
            "Validation loss after 11 epochs: 2.7495007514953613\n",
            "Training loss after 12 epochs: 2.9750382900238037\n",
            "Validation loss after 12 epochs: 4.066125392913818\n",
            "Early Stopping Trigger Count:  1\n",
            "Training loss after 13 epochs: 2.9792630672454834\n",
            "Validation loss after 13 epochs: 3.17921781539917\n",
            "Training loss after 14 epochs: 2.8324577808380127\n",
            "Validation loss after 14 epochs: 2.7972750663757324\n",
            "Training loss after 15 epochs: 2.9171688556671143\n",
            "Validation loss after 15 epochs: 3.6364636421203613\n",
            "Time elapsed: 121.95 min\n",
            "Saved checkpoint attention_model_15_epochs.pth!\n",
            "Early Stopping Trigger Count:  2\n",
            "Training loss after 16 epochs: 2.83569073677063\n",
            "Validation loss after 16 epochs: 4.225852966308594\n",
            "Early Stopping Trigger Count:  3\n",
            "Saved model basic_model.pth!\n",
            "Early Stopping!\n",
            "Time elapsed for 30 epochs: 130.0 min\n",
            "loss:  2.83569073677063\n"
          ]
        }
      ],
      "source": [
        "#import pathlib\n",
        "CHECKPOINT_DIRECTORY = \"/content/drive/MyDrive/Colab Notebooks/sequences/sequences2/model_checkpoints\"\n",
        "\n",
        "model.train()\n",
        "\n",
        "start = 1\n",
        "num_epochs = 30  #60 #ONLY USE MULTIPLES OF 10 \n",
        "losses = [] \n",
        "losses_val = []\n",
        "\n",
        "time_start = time.time() \n",
        "\n",
        "restore_latest_checkpoint = False\n",
        "\n",
        "if restore_latest_checkpoint:\n",
        "    #find last checkpoint file based on last modified \n",
        "    all_files = pathlib.Path(CHECKPOINT_DIRECTORY).glob('*.pth')\n",
        "    latest_file = max(all_files, key=os.path.getctime)\n",
        "    checkpoint_file = str(latest_file).split(\"/\")[1]\n",
        "    \n",
        "    #adjust epoch range\n",
        "    start = int(checkpoint_file.split(\"_\")[2]) + 1 \n",
        "    num_epochs += start \n",
        "    \n",
        "    #load checkpoint \n",
        "    helper.load_checkpoint(checkpoint_file, model, optimizer)\n",
        "\n",
        "\"\"\"\n",
        "Training\n",
        "\"\"\"\n",
        "# Early stopping variables\n",
        "previous_loss = 50\n",
        "triggered = 0\n",
        "\n",
        "for epoch in range(start, num_epochs+1):\n",
        "\n",
        "\n",
        "    batch_loss = 0 \n",
        "    avg_batch_loss = 0 \n",
        "    \n",
        "    for batch_num, (idx, X, y) in enumerate(train_loader):\n",
        "        X = X.to(device)\n",
        "        y = y.to(device)\n",
        "\n",
        "        y_train = y.to(device)\n",
        "        outputs = model(X, y_train)\n",
        "        y_target = y[:, 1:].to(device)\n",
        "        \n",
        "        loss = criterion(\n",
        "            outputs.reshape(-1, outputs.shape[2]), \n",
        "            y_target.reshape(-1)\n",
        "        )\n",
        "\n",
        "        optimizer.zero_grad()\n",
        "        loss.backward()\n",
        "        optimizer.step()\n",
        "        \n",
        "        batch_loss += loss.item()\n",
        "        \n",
        "        # if batch_num %100 == 0:\n",
        "        #     print(f\"batch : {batch_num}, loss : {loss.item()}\")\n",
        "            \n",
        "        #     \"\"\"show sample caption\"\"\"\n",
        "        #     model.eval()\n",
        "        #     with torch.no_grad():\n",
        "        #         idx, images, captions= next(iter(train_loader))\n",
        "        #         images = images.to(device)\n",
        "        #         features = model.encoder(images[0:1])\n",
        "        #         plt.imshow(train_data.plot_img(idx[0]))\n",
        "\n",
        "        #         # print(\"Expected: \", train_data.get_image_caption(idx[0]))\n",
        "        #         # print(\"Predicted: \", model.generate_caption(features, train_data.vocabulary, 20))\n",
        "        #     model.train()\n",
        "\n",
        "    #save loss after every epoch \n",
        "    avg_batch_loss = batch_loss/(batch_num+1)\n",
        "    \n",
        "        \n",
        "    \"\"\"\n",
        "    Validation\n",
        "    \"\"\"\n",
        "    # run validation set to see find loss \n",
        "    batch_loss_val = 0 \n",
        "    avg_batch_loss_val = 0 \n",
        "    with torch.no_grad(): \n",
        "        #UNCOMMENT THIS \n",
        "        for batch_num_val, (idx_val, X_val, y_val) in enumerate(val_loader):\n",
        "            X_val = X_val.to(device)\n",
        "            y_val = y_val.to(device)\n",
        "            \n",
        "            #skip eos (?) \n",
        "            y_train_val = y_val.to(device)\n",
        "\n",
        "            #calculate loss\n",
        "            out_val = model(X_val, y_train_val)\n",
        "            #skip sos for target \n",
        "            y_val_target = y_val[:, 1:].to(device)\n",
        "            \n",
        "            loss_val = criterion(out_val.reshape(-1, out_val.shape[2]), y_val_target.reshape(-1))\n",
        "            \n",
        "            batch_loss_val += loss_val.item()\n",
        "\n",
        "    #losses_val.append(loss_val.item())#{epoch : loss_val.item()})\n",
        "    avg_batch_loss_val = batch_loss_val/(batch_num_val+1)\n",
        "\n",
        "    losses.append([avg_batch_loss, avg_batch_loss_val])\n",
        "\n",
        "\n",
        "    print(f\"Training loss after {epoch} epochs: {loss.item()}\\nValidation loss after {epoch} epochs: {loss_val.item()}\")\n",
        "    \n",
        "    \"\"\"\n",
        "    Save checkpoints\n",
        "    \"\"\" \n",
        "    if epoch%5 == 0:\n",
        "        print(\"Time elapsed: {} min\".format((round((time.time()-time_start)/60, 2))))\n",
        "        #save checkpoint \n",
        "        checkpoint = {\"state_dict\": model.state_dict(),\n",
        "                    \"optimizer\": optimizer.state_dict(),\n",
        "                    \"step\": epoch\n",
        "                    }\n",
        "        fname = \"attention_model_\" + str(epoch) + \"_epochs.pth\"\n",
        "        \n",
        "        #UNCOMMENT THIS \n",
        "        helper.save_checkpoint(checkpoint, fname)\n",
        "        \n",
        "    \"\"\"    \n",
        "    Early stopping\n",
        "    \"\"\"\n",
        "    current_loss = avg_batch_loss_val\n",
        "\n",
        "    if current_loss > previous_loss:\n",
        "        triggered += 1\n",
        "        print('Early Stopping Trigger Count: ', triggered)\n",
        "\n",
        "        if triggered >= 3:\n",
        "            helper.save_model(model.state_dict(), \"basic_model.pth\")\n",
        "            print('Early Stopping!')\n",
        "            break;\n",
        "\n",
        "    previous_loss = current_loss    \n",
        "        \n",
        "                \n",
        "    #for final epoch \n",
        "    if epoch == num_epochs: \n",
        "        helper.save_model(model.state_dict(), \"attention_model.pth\")\n",
        "             \n",
        "print(\"Time elapsed for {} epochs: {} min\".format(epoch, \n",
        "                                                  round((time.time()-time_start)/60, 2)))\n",
        "print(\"loss: \", loss.item())"
      ],
      "id": "f1ff3267-b774-405b-8380-cea752162718"
    },
    {
      "cell_type": "markdown",
      "metadata": {
        "id": "ceb8c7b3-5a7f-468b-b8b3-23b93e385e2d"
      },
      "source": [
        "## Plot loss "
      ],
      "id": "ceb8c7b3-5a7f-468b-b8b3-23b93e385e2d"
    },
    {
      "cell_type": "code",
      "execution_count": 16,
      "metadata": {
        "colab": {
          "base_uri": "https://localhost:8080/",
          "height": 286
        },
        "id": "b994380c-aa85-4509-bba9-43a452b78039",
        "outputId": "56e9aa57-6bc9-4a45-c984-ea4dd8ca8694"
      },
      "outputs": [
        {
          "output_type": "execute_result",
          "data": {
            "text/plain": [
              "<matplotlib.axes._subplots.AxesSubplot at 0x7f29d9eab590>"
            ]
          },
          "metadata": {},
          "execution_count": 16
        },
        {
          "output_type": "display_data",
          "data": {
            "text/plain": [
              "<Figure size 432x288 with 1 Axes>"
            ],
            "image/png": "[encoded data removed]"
          },
          "metadata": {}
        }
      ],
      "source": [
        "import matplotlib.pyplot as plt \n",
        "import seaborn as sns \n",
        "import pandas as pd\n",
        "sns.set() \n",
        "\n",
        "\n",
        "if restore_latest_checkpoint: \n",
        "    #add to existing losses \n",
        "    old_losses = pd.read_csv('loss.csv')[[\"epochs\", \"loss\", \"loss_val\"]]\n",
        "    start_index = old_losses.epochs.max() + 1\n",
        "    new_data = [[start_index+i, losses[i][0], losses[i][1]] for i in range(len(losses))]\n",
        "    new_losses = pd.DataFrame(new_data, columns = [\"epochs\", \"loss\", \"loss_val\"])\n",
        "    loss_df = pd.concat([old_losses, new_losses], keys = [\"epochs\", \"loss\", \"loss_val\"]).reset_index(drop = True)\n",
        "    \n",
        "else:\n",
        "    #create new df \n",
        "    loss_df = pd.DataFrame(losses, columns = ['loss', \"loss_val\"])\n",
        "    loss_df = loss_df.reset_index().rename(columns= {'index': 'epochs'})\n",
        "    \n",
        "loss_df.to_csv(\"loss.csv\")\n",
        "\n",
        "loss_df\n",
        "sns.lineplot(data= loss_df.iloc[:, 1:])\n",
        "#sns.lineplot(data = loss_df, x = \"epochs\", y = \"loss\") "
      ],
      "id": "b994380c-aa85-4509-bba9-43a452b78039"
    },
    {
      "cell_type": "markdown",
      "metadata": {
        "id": "ef2b5294-291d-41eb-ac25-a748bfade045"
      },
      "source": [
        "## Test random cases"
      ],
      "id": "ef2b5294-291d-41eb-ac25-a748bfade045"
    },
    {
      "cell_type": "code",
      "execution_count": null,
      "metadata": {
        "colab": {
          "background_save": true
        },
        "id": "1abbbd98-fa61-4d7f-9116-f37a85e2ae5d"
      },
      "outputs": [],
      "source": [
        "#import model \n",
        "#find last checkpoint file based on last modified \n",
        "all_files = pathlib.Path(CHECKPOINT_DIRECTORY).glob('*.pth')\n",
        "latest_file = max(all_files, key=os.path.getctime)\n",
        "checkpoint_file = str(latest_file).split(\"/\")[1]\n",
        "\n",
        "#print(checkpoint_file)\n",
        "\n",
        "model = model_attn.EncodertoDecoder(embed_size, hidden_size, num_layers, vocab_size).to(device)\n",
        "\n",
        "path =  CHECKPOINT_DIRECTORY + \"/\" +  checkpoint_file\n",
        "checkpoint = torch.load(path)\n",
        "model.load_state_dict(checkpoint[\"state_dict\"])\n",
        "\n",
        "model.eval()\n",
        "None"
      ],
      "id": "1abbbd98-fa61-4d7f-9116-f37a85e2ae5d"
    },
    {
      "cell_type": "code",
      "execution_count": null,
      "metadata": {
        "colab": {
          "background_save": true
        },
        "id": "597464ca-9649-4d5a-b76a-cb0bf9c1b547"
      },
      "outputs": [],
      "source": [
        "#Load model for inference \n",
        "#import model\n",
        "#model = model.EncodertoDecoder(embed_size, hidden_size, num_layers, vocab_size, extract_features).to(device)\n",
        "#helper.load_model(model, \"basic_model.pth\")\n",
        "\n",
        "#basic_model_170_epochs.pth\n",
        "\n",
        "#model.eval()\n",
        "#None"
      ],
      "id": "597464ca-9649-4d5a-b76a-cb0bf9c1b547"
    },
    {
      "cell_type": "code",
      "execution_count": null,
      "metadata": {
        "colab": {
          "background_save": true
        },
        "id": "a3d0bcdc-8a0d-4ae6-a5cd-7cc13b75a084"
      },
      "outputs": [],
      "source": [
        "idx, X, y= next(iter(test_loader))"
      ],
      "id": "a3d0bcdc-8a0d-4ae6-a5cd-7cc13b75a084"
    },
    {
      "cell_type": "code",
      "execution_count": null,
      "metadata": {
        "colab": {
          "background_save": true
        },
        "id": "3eb15149-925d-40be-8027-1eba84b29455"
      },
      "outputs": [],
      "source": [
        "X = X.to(device)\n",
        "features = model.encoder(X)#.to(device)\n",
        "plt.imshow(test_data.plot_img(idx.item()))\n",
        "print(\"Expected: \", test_data.get_image_caption(idx.item()))\n",
        "print(\"Predicted: \", model.generate_caption(features, test_data.vocabulary, 20))"
      ],
      "id": "3eb15149-925d-40be-8027-1eba84b29455"
    },
    {
      "cell_type": "code",
      "execution_count": null,
      "metadata": {
        "colab": {
          "background_save": true
        },
        "id": "729d692a-8c6e-43ea-93c7-033708463f59"
      },
      "outputs": [],
      "source": [
        "#train_data.plot_img(idx[0])\n",
        "plt.imshow(test_data.plot_img(idx.item()))\n",
        "print(\"Expected: \", test_data.get_image_caption(idx.item()))\n",
        "print(\"Predicted: \", model.caption_image_greedy(X.to(device), test_data.vocabulary, 20))"
      ],
      "id": "729d692a-8c6e-43ea-93c7-033708463f59"
    },
    {
      "cell_type": "code",
      "execution_count": null,
      "metadata": {
        "colab": {
          "background_save": true
        },
        "id": "2d46ca9f-c1ce-4c1f-868f-2a5c8e7570ef"
      },
      "outputs": [],
      "source": [
        "\"\"\"\n",
        "TODO: when calculating score, compare to any of the reference sentence?\n",
        "\"\"\"\n",
        "#print(\"Expected: \", train_data.get_all_captions(idx[0]))\n",
        "#print(\"Predicted: \", model.caption_image(X[:1].to(device), train_data.vocabulary))\n",
        "\n",
        "\n",
        "print(\"Expected: \", test_data.get_image_caption(idx.item()))\n",
        "print(\"Predicted: \", model.caption_image_greedy(X.to(device), test_data.vocabulary, 20))"
      ],
      "id": "2d46ca9f-c1ce-4c1f-868f-2a5c8e7570ef"
    },
    {
      "cell_type": "code",
      "execution_count": null,
      "metadata": {
        "colab": {
          "background_save": true
        },
        "id": "99a536f9-3127-4788-b549-06ed7122237d"
      },
      "outputs": [],
      "source": [
        "test_data.vocabulary.str_to_idx[\"<EOS>\"]"
      ],
      "id": "99a536f9-3127-4788-b549-06ed7122237d"
    },
    {
      "cell_type": "code",
      "execution_count": null,
      "metadata": {
        "colab": {
          "background_save": true
        },
        "id": "d19b2021-aaf2-4ae4-9158-40ab74a71dcb"
      },
      "outputs": [],
      "source": [
        "from PIL import Image as PILImage\n",
        "\n",
        "fname = test_data.img_files_dict[idx.item()]\n",
        "path = test_data.imgs_dir + '/' + fname \n",
        "img = PILImage.open(path).convert('RGB')"
      ],
      "id": "d19b2021-aaf2-4ae4-9158-40ab74a71dcb"
    },
    {
      "cell_type": "code",
      "execution_count": null,
      "metadata": {
        "colab": {
          "background_save": true
        },
        "id": "094fdfee-c783-4544-94e6-b9ba7a27d7e0"
      },
      "outputs": [],
      "source": [
        "from torchvision import transforms as transforms\n",
        "\n",
        "transform_train = transforms.Compose([ \n",
        "                transforms.Resize(256),                          # smaller edge of image resized to 256\n",
        "               # transforms.RandomCrop(224),                      # get 224x224 crop from random location\n",
        "                transforms.RandomHorizontalFlip(),               # horizontally flip image with probability=0.5\n",
        "                transforms.ToTensor(),                           # convert the PIL Image to a tensor\n",
        "                transforms.Normalize((0.485, 0.456, 0.406),      # normalize image for pre-trained model\n",
        "                                     (0.229, 0.224, 0.225))\n",
        "]\n",
        "            )\n",
        "img = transform_train(img)"
      ],
      "id": "094fdfee-c783-4544-94e6-b9ba7a27d7e0"
    },
    {
      "cell_type": "code",
      "execution_count": null,
      "metadata": {
        "colab": {
          "background_save": true
        },
        "id": "fd21f612-e9c6-4892-9ccf-01b190764002"
      },
      "outputs": [],
      "source": [
        "transform = transforms.Compose([\n",
        "                transforms.Resize((299, 299)),\n",
        "                transforms.ToTensor()\n",
        "                #transforms.Normalize((0.5, 0.5, 0.5), (0.5, 0.5, 0.5))\n",
        "])\n",
        "img = transform(img)"
      ],
      "id": "fd21f612-e9c6-4892-9ccf-01b190764002"
    },
    {
      "cell_type": "code",
      "execution_count": null,
      "metadata": {
        "colab": {
          "background_save": true
        },
        "id": "7b44f25d-ebde-4fc5-bce8-6095b48bd020"
      },
      "outputs": [],
      "source": [
        "# define a transform to convert a tensor to PIL image\n",
        "transform = transforms.ToPILImage()\n",
        "\n",
        "# convert the tensor to PIL image using above transform\n",
        "my_img= transform(img)\n",
        "\n",
        "# display the PIL image\n",
        "my_img.show()"
      ],
      "id": "7b44f25d-ebde-4fc5-bce8-6095b48bd020"
    },
    {
      "cell_type": "code",
      "execution_count": null,
      "metadata": {
        "colab": {
          "background_save": true
        },
        "id": "b31bf3ab-d23c-4038-8ee4-ff58126a8659"
      },
      "outputs": [],
      "source": [
        "print(idx[0])\n",
        "print(train_data.get_image_caption(idx[0]))\n",
        "print(train_data.get_all_captions(idx[0]))\n",
        "print(train_data.get_vectorized_caption(idx[0]))\n",
        "train_data.plot_img(idx[0])"
      ],
      "id": "b31bf3ab-d23c-4038-8ee4-ff58126a8659"
    }
  ],
  "metadata": {
    "accelerator": "GPU",
    "colab": {
      "background_execution": "on",
      "collapsed_sections": [],
      "name": "train_model_attention.ipynb",
      "provenance": []
    },
    "kernelspec": {
      "display_name": "Python 3 (ipykernel)",
      "language": "python",
      "name": "python3"
    },
    "language_info": {
      "codemirror_mode": {
        "name": "ipython",
        "version": 3
      },
      "file_extension": ".py",
      "mimetype": "text/x-python",
      "name": "python",
      "nbconvert_exporter": "python",
      "pygments_lexer": "ipython3",
      "version": "3.8.12"
    }
  },
  "nbformat": 4,
  "nbformat_minor": 5
}