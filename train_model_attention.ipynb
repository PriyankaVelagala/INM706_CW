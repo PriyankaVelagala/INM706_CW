{
  "cells": [
    {
      "cell_type": "code",
      "execution_count": null,
      "metadata": {
        "id": "avA4_tExC8p_"
      },
      "outputs": [],
      "source": [
        "!pip install transformers\n",
        "from google.colab import drive\n",
        "drive.mount('/content/drive')\n",
        "import sys\n",
        "sys.path.append('/content/drive/MyDrive/Colab Notebooks/sequences/sequences2')"
      ],
      "id": "avA4_tExC8p_"
    },
    {
      "cell_type": "code",
      "execution_count": null,
      "metadata": {
        "colab": {
          "background_save": true
        },
        "id": "59ef23ae-ffd8-49e4-9600-89b3cd1545a1",
        "outputId": "3e9cc8bc-b696-4f95-f3ba-0008b6b0b1df"
      },
      "outputs": [
        {
          "name": "stdout",
          "output_type": "stream",
          "text": [
            "[nltk_data] Downloading package punkt to /root/nltk_data...\n",
            "[nltk_data]   Unzipping tokenizers/punkt.zip.\n"
          ]
        }
      ],
      "source": [
        "import dataset_flickr7k\n",
        "import helper_classes as helper\n",
        "import nltk\n",
        "nltk.download('punkt')\n",
        "import matplotlib.pyplot as plt\n",
        "from torch.utils.data import Dataset, DataLoader\n",
        "from torch.utils import data as data\n",
        "\n",
        "import time \n",
        "import torch\n",
        "import torch.nn as nn\n",
        "import torch.optim as optim\n",
        "import pathlib\n",
        "\n",
        "import os "
      ],
      "id": "59ef23ae-ffd8-49e4-9600-89b3cd1545a1"
    },
    {
      "cell_type": "code",
      "execution_count": null,
      "metadata": {
        "colab": {
          "background_save": true
        },
        "id": "7901469e-f468-45c8-a3a8-476d217db4a4"
      },
      "outputs": [],
      "source": [
        "CHECKPOINT_DIRECTORY = \"model_checkpoints\""
      ],
      "id": "7901469e-f468-45c8-a3a8-476d217db4a4"
    },
    {
      "cell_type": "markdown",
      "metadata": {
        "id": "cafd18b8-b7f3-4611-b8bb-d7f2538ac194"
      },
      "source": [
        "# Load Dataset"
      ],
      "id": "cafd18b8-b7f3-4611-b8bb-d7f2538ac194"
    },
    {
      "cell_type": "markdown",
      "metadata": {
        "id": "6e2bfcfc-61cf-4d21-b76e-12921864fdfd"
      },
      "source": [
        "## Train set "
      ],
      "id": "6e2bfcfc-61cf-4d21-b76e-12921864fdfd"
    },
    {
      "cell_type": "code",
      "execution_count": null,
      "metadata": {
        "colab": {
          "background_save": true
        },
        "id": "cf17316c-4306-4804-a985-080e65132d8b",
        "outputId": "97f7dae1-c18f-40b0-ec2e-9ef0b264f893"
      },
      "outputs": [
        {
          "name": "stdout",
          "output_type": "stream",
          "text": [
            "length = 7000\n",
            "stage:  train\n",
            "ds_path:  /content/drive/MyDrive/Colab Notebooks/sequences/sequences2\n",
            "captions_f:  /content/drive/MyDrive/Colab Notebooks/sequences/sequences2/results_new.csv\n",
            "imgs_dir:  /content/drive/MyDrive/Colab Notebooks/sequences/sequences2/images_split/train\n",
            "Initialized 7736 words in vocabulary\n",
            "Initialized 35000 images!\n"
          ]
        }
      ],
      "source": [
        "# dataset\n",
        "data_args = {'stage': 'train',\n",
        "            'ds_path' : \"/content/drive/MyDrive/Colab Notebooks/sequences/sequences2\", \n",
        "            'captions_dir': \"\",\n",
        "            'captions_fname': 'results_new.csv',\n",
        "            'images_dir': '/images_split',\n",
        "            'freq_threshold': 5}\n",
        "\n",
        "train_data = dataset_flickr7k.Flickr7kData(**data_args)\n",
        "\n",
        "print(f\"Initialized {len(train_data)} images!\") "
      ],
      "id": "cf17316c-4306-4804-a985-080e65132d8b"
    },
    {
      "cell_type": "markdown",
      "metadata": {
        "id": "b3ec81d1-2ee8-46e1-a4c1-0f6cb74dba39"
      },
      "source": [
        "## Validation set"
      ],
      "id": "b3ec81d1-2ee8-46e1-a4c1-0f6cb74dba39"
    },
    {
      "cell_type": "code",
      "execution_count": null,
      "metadata": {
        "colab": {
          "background_save": true
        },
        "id": "86a858b3-b8ad-41b9-ab56-cb2ec047929c",
        "outputId": "fdde7029-07e4-44c6-9592-38af176a4987"
      },
      "outputs": [
        {
          "name": "stdout",
          "output_type": "stream",
          "text": [
            "length = 2000\n",
            "stage:  val\n",
            "ds_path:  /content/drive/MyDrive/Colab Notebooks/sequences/sequences2\n",
            "captions_f:  /content/drive/MyDrive/Colab Notebooks/sequences/sequences2/results_new.csv\n",
            "imgs_dir:  /content/drive/MyDrive/Colab Notebooks/sequences/sequences2/images_split/val\n",
            "Initialized 7736 words in vocabulary\n",
            "Initialized 10000 images!\n"
          ]
        }
      ],
      "source": [
        "# dataset\n",
        "data_args = {'stage': 'val',\n",
        "            'ds_path' : \"/content/drive/MyDrive/Colab Notebooks/sequences/sequences2\", \n",
        "            'captions_dir': \"\",\n",
        "            'captions_fname': 'results_new.csv',\n",
        "            'images_dir': '/images_split',\n",
        "            'freq_threshold': 5}\n",
        "\n",
        "val_data = dataset_flickr7k.Flickr7kData(**data_args)\n",
        "\n",
        "print(f\"Initialized {len(val_data)} images!\") "
      ],
      "id": "86a858b3-b8ad-41b9-ab56-cb2ec047929c"
    },
    {
      "cell_type": "markdown",
      "metadata": {
        "id": "aca5677e-231c-4306-b344-c8271a0cb5e3"
      },
      "source": [
        "## Set up data loader"
      ],
      "id": "aca5677e-231c-4306-b344-c8271a0cb5e3"
    },
    {
      "cell_type": "code",
      "execution_count": null,
      "metadata": {
        "colab": {
          "background_save": true
        },
        "id": "4c59ec99-699c-4c05-9ee7-a29de53c96dd"
      },
      "outputs": [],
      "source": [
        "pad_idx = train_data.vocabulary.str_to_idx[\"<PAD>\"]\n",
        "batch_size = 128\n",
        "\n",
        "train_loader = DataLoader(\n",
        "        dataset=train_data,\n",
        "        batch_size=batch_size,\n",
        "        shuffle=True,\n",
        "        collate_fn=helper.CollateCustom(pad_idx),\n",
        "    )\n",
        "\n",
        "\n",
        "val_loader = DataLoader (\n",
        "        dataset=val_data,\n",
        "        batch_size=batch_size,\n",
        "        shuffle=True,\n",
        "        collate_fn=helper.CollateCustom(pad_idx),\n",
        "    )"
      ],
      "id": "4c59ec99-699c-4c05-9ee7-a29de53c96dd"
    },
    {
      "cell_type": "code",
      "execution_count": null,
      "metadata": {
        "colab": {
          "background_save": true
        },
        "id": "2f8b2d37-3de9-453f-9835-3d56ffaa7b77",
        "outputId": "7e3a773f-7836-4cd1-bf43-912bf3fcbfb5"
      },
      "outputs": [
        {
          "data": {
            "text/plain": [
              "device(type='cuda')"
            ]
          },
          "execution_count": null,
          "metadata": {},
          "output_type": "execute_result"
        }
      ],
      "source": [
        "device = torch.device(\"cuda\" if torch.cuda.is_available() else \"cpu\")\n",
        "device"
      ],
      "id": "2f8b2d37-3de9-453f-9835-3d56ffaa7b77"
    },
    {
      "cell_type": "markdown",
      "metadata": {
        "id": "p7HDCsOE1rqr"
      },
      "source": [
        "# Attention\n"
      ],
      "id": "p7HDCsOE1rqr"
    },
    {
      "cell_type": "markdown",
      "metadata": {
        "id": "31287546-cae0-48f1-b675-b20e12447584"
      },
      "source": [
        "## Set up hyperparameters"
      ],
      "id": "31287546-cae0-48f1-b675-b20e12447584"
    },
    {
      "cell_type": "code",
      "execution_count": null,
      "metadata": {
        "colab": {
          "background_save": true
        },
        "id": "1743ba45-c53b-45d8-9d26-466d0b3adca8"
      },
      "outputs": [],
      "source": [
        "# Hyperparameters\n",
        "embed_size = 256\n",
        "hidden_size = 512 \n",
        "attn_dim = 256 \n",
        "vocab_size = len(train_data.vocabulary) \n",
        "num_layers = 1\n",
        "\n",
        "learning_rate = 3e-4"
      ],
      "id": "1743ba45-c53b-45d8-9d26-466d0b3adca8"
    },
    {
      "cell_type": "markdown",
      "metadata": {
        "id": "5220663c-d28d-4c40-b7b6-b693b6bede9d"
      },
      "source": [
        "## Initialize Model, Loss & optimizer"
      ],
      "id": "5220663c-d28d-4c40-b7b6-b693b6bede9d"
    },
    {
      "cell_type": "code",
      "execution_count": null,
      "metadata": {
        "colab": {
          "background_save": true
        },
        "id": "e37f3d7f-cf36-4574-9212-5c85de4e3a83",
        "outputId": "f64094bd-e026-4d3d-fbcb-1a0d0a6e31da"
      },
      "outputs": [
        {
          "data": {
            "text/plain": [
              "<module 'model_attn_2' from '/content/drive/MyDrive/Colab Notebooks/sequences/sequences2/model_attn_2.py'>"
            ]
          },
          "execution_count": null,
          "metadata": {},
          "output_type": "execute_result"
        }
      ],
      "source": [
        "import importlib \n",
        "#import model_attention as model_attn\n",
        "import model_attn_2 as model_attn\n",
        "importlib.reload(model_attn)"
      ],
      "id": "e37f3d7f-cf36-4574-9212-5c85de4e3a83"
    },
    {
      "cell_type": "code",
      "execution_count": null,
      "metadata": {
        "colab": {
          "background_save": true,
          "referenced_widgets": [
            "6f254f8aadf94e519e4f858c379fb92b"
          ]
        },
        "id": "f03012dc-e653-473c-b2cb-00d4d3bf7406",
        "outputId": "0d54808b-4565-4be8-97f6-c28df8a4dfdf"
      },
      "outputs": [
        {
          "name": "stderr",
          "output_type": "stream",
          "text": [
            "Downloading: \"https://download.pytorch.org/models/inception_v3_google-0cc3c7bd.pth\" to /root/.cache/torch/hub/checkpoints/inception_v3_google-0cc3c7bd.pth\n"
          ]
        },
        {
          "data": {
            "application/vnd.jupyter.widget-view+json": {
              "model_id": "6f254f8aadf94e519e4f858c379fb92b",
              "version_major": 2,
              "version_minor": 0
            },
            "text/plain": [
              "  0%|          | 0.00/104M [00:00<?, ?B/s]"
            ]
          },
          "metadata": {},
          "output_type": "display_data"
        },
        {
          "name": "stdout",
          "output_type": "stream",
          "text": [
            "Initialized Encoder!\n",
            "Initialized Decoder!\n"
          ]
        }
      ],
      "source": [
        "model = model_attn.EncodertoDecoder(embed_size, hidden_size, num_layers, vocab_size, attn_dim).to(device)\n",
        "criterion = nn.CrossEntropyLoss(ignore_index=train_data.vocabulary.str_to_idx[\"<PAD>\"])\n",
        "optimizer = optim.Adam(model.parameters(), lr=learning_rate)"
      ],
      "id": "f03012dc-e653-473c-b2cb-00d4d3bf7406"
    },
    {
      "cell_type": "markdown",
      "metadata": {
        "id": "e434ca79-295a-4eff-a49b-3c1d38e41cce"
      },
      "source": [
        "## Train model"
      ],
      "id": "e434ca79-295a-4eff-a49b-3c1d38e41cce"
    },
    {
      "cell_type": "code",
      "execution_count": null,
      "metadata": {
        "colab": {
          "background_save": true,
          "base_uri": "https://localhost:8080/"
        },
        "id": "f1ff3267-b774-405b-8380-cea752162718",
        "outputId": "a26b5212-c226-4b12-a8df-0926cc779bb7"
      },
      "outputs": [
        {
          "name": "stdout",
          "output_type": "stream",
          "text": [
            "Training loss after 1 epochs: 4.809908962597812\n",
            "Validation loss after 1 epochs: 4.20366549793678\n",
            "Training loss after 2 epochs: 3.985542212089483\n",
            "Validation loss after 2 epochs: 3.872321629826027\n",
            "Training loss after 3 epochs: 3.735822471388935\n",
            "Validation loss after 3 epochs: 3.7100763170025015\n",
            "Training loss after 4 epochs: 3.5740578644467096\n",
            "Validation loss after 4 epochs: 3.5930200468135784\n",
            "Training loss after 5 epochs: 3.4572459903076616\n",
            "Validation loss after 5 epochs: 3.519855970068823\n",
            "Time elapsed: 59.04 min\n",
            "Saved checkpoint attention_model_5_epochs.pth!\n",
            "Training loss after 6 epochs: 3.364099530407982\n",
            "Validation loss after 6 epochs: 3.4469961908799185\n",
            "Training loss after 7 epochs: 3.2863420291538654\n",
            "Validation loss after 7 epochs: 3.3963500517833083\n",
            "Training loss after 8 epochs: 3.2200890144292456\n",
            "Validation loss after 8 epochs: 3.360499910161465\n",
            "Training loss after 9 epochs: 3.1607294726545794\n",
            "Validation loss after 9 epochs: 3.3278691315952735\n",
            "Training loss after 10 epochs: 3.11068244050019\n",
            "Validation loss after 10 epochs: 3.2941104218929627\n",
            "Time elapsed: 105.54 min\n",
            "Saved checkpoint attention_model_10_epochs.pth!\n",
            "Training loss after 11 epochs: 3.062544379791204\n",
            "Validation loss after 11 epochs: 3.2769241182109976\n",
            "Training loss after 12 epochs: 3.0182786344611734\n",
            "Validation loss after 12 epochs: 3.2682383814944496\n",
            "Training loss after 13 epochs: 2.9792171542661903\n",
            "Validation loss after 13 epochs: 3.2430042526389977\n",
            "Training loss after 14 epochs: 2.9416965028665363\n",
            "Validation loss after 14 epochs: 3.22751915907558\n",
            "Training loss after 15 epochs: 2.90679159042609\n",
            "Validation loss after 15 epochs: 3.210681390158738\n",
            "Time elapsed: 152.8 min\n",
            "Saved checkpoint attention_model_15_epochs.pth!\n",
            "Training loss after 16 epochs: 2.8759759185958083\n",
            "Validation loss after 16 epochs: 3.199949557268167\n",
            "Training loss after 17 epochs: 2.843774272577606\n",
            "Validation loss after 17 epochs: 3.1988308248640616\n",
            "Training loss after 18 epochs: 2.8151237146697774\n",
            "Validation loss after 18 epochs: 3.1931359496297715\n",
            "Training loss after 19 epochs: 2.786904581271819\n",
            "Validation loss after 19 epochs: 3.183821171144896\n",
            "Training loss after 20 epochs: 2.760797181268678\n",
            "Validation loss after 20 epochs: 3.179272395146044\n",
            "Time elapsed: 199.71 min\n",
            "Saved checkpoint attention_model_20_epochs.pth!\n",
            "Training loss after 21 epochs: 2.7358824327914384\n",
            "Validation loss after 21 epochs: 3.1777442286286175\n",
            "Training loss after 22 epochs: 2.710843455182375\n",
            "Validation loss after 22 epochs: 3.170962553990038\n",
            "Training loss after 23 epochs: 2.6847355017696852\n",
            "Validation loss after 23 epochs: 3.177464467060717\n",
            "Early Stopping Trigger Count:  1\n",
            "Training loss after 24 epochs: 2.6654874347422246\n",
            "Validation loss after 24 epochs: 3.16703201245658\n",
            "Training loss after 25 epochs: 2.6436865773514238\n",
            "Validation loss after 25 epochs: 3.169518863098531\n",
            "Time elapsed: 246.52 min\n",
            "Saved checkpoint attention_model_25_epochs.pth!\n",
            "Early Stopping Trigger Count:  2\n",
            "Training loss after 26 epochs: 2.6215519966000187\n",
            "Validation loss after 26 epochs: 3.1673947074745277\n",
            "Training loss after 27 epochs: 2.602955221259681\n",
            "Validation loss after 27 epochs: 3.1737452096576932\n",
            "Early Stopping Trigger Count:  3\n",
            "Saved model attention_model.pth!\n",
            "Early Stopping!\n",
            "Time elapsed for 27 epochs: 265.22 min\n"
          ]
        }
      ],
      "source": [
        "CHECKPOINT_DIRECTORY = \"/content/drive/MyDrive/Colab Notebooks/sequences/sequences2/model_checkpoints\"\n",
        "\n",
        "model.train()\n",
        "\n",
        "start = 1\n",
        "num_epochs = 30 \n",
        "losses = [] \n",
        "losses_val = []\n",
        "\n",
        "time_start = time.time() \n",
        "\n",
        "\"\"\"\n",
        "Training\n",
        "\"\"\"\n",
        "# Early stopping variables\n",
        "previous_loss = 50\n",
        "triggered = 0\n",
        "\n",
        "for epoch in range(start, num_epochs+1):\n",
        "    batch_loss = 0 \n",
        "    avg_batch_loss = 0 \n",
        "    \n",
        "    for batch_num, (idx, X, y) in enumerate(train_loader):\n",
        "        X = X.to(device)\n",
        "        y = y.to(device)\n",
        "\n",
        "        y_train = y.to(device)\n",
        "        outputs = model(X, y_train)\n",
        "        y_target = y[:, 1:].to(device)\n",
        "        \n",
        "        loss = criterion(\n",
        "            outputs.reshape(-1, outputs.shape[2]), \n",
        "            y_target.reshape(-1)\n",
        "        )\n",
        "\n",
        "        optimizer.zero_grad()\n",
        "        loss.backward()\n",
        "        optimizer.step()\n",
        "        \n",
        "        batch_loss += loss.item()\n",
        "        \n",
        "    #save loss after every epoch \n",
        "    avg_batch_loss = batch_loss/(batch_num+1)\n",
        "    \n",
        "        \n",
        "    \"\"\"\n",
        "    Validation\n",
        "    \"\"\"\n",
        "    # run validation set to find loss \n",
        "    batch_loss_val = 0 \n",
        "    avg_batch_loss_val = 0 \n",
        "    with torch.no_grad(): \n",
        "        for batch_num_val, (idx_val, X_val, y_val) in enumerate(val_loader):\n",
        "            X_val = X_val.to(device)\n",
        "            y_val = y_val.to(device)\n",
        "            \n",
        "            #skip eos (?) \n",
        "            y_train_val = y_val.to(device)\n",
        "\n",
        "            #calculate loss\n",
        "            out_val = model(X_val, y_train_val)\n",
        "\n",
        "            #skip sos for target \n",
        "            y_val_target = y_val[:, 1:].to(device)\n",
        "            \n",
        "            loss_val = criterion(out_val.reshape(-1, out_val.shape[2]), y_val_target.reshape(-1))\n",
        "            \n",
        "            batch_loss_val += loss_val.item()\n",
        "\n",
        "    avg_batch_loss_val = batch_loss_val/(batch_num_val+1)\n",
        "\n",
        "    losses.append([avg_batch_loss, avg_batch_loss_val])\n",
        "\n",
        "\n",
        "    print(f\"Training loss after {epoch} epochs: {avg_batch_loss}\")\n",
        "    print(f'Validation loss after {epoch} epochs: {avg_batch_loss_val}')\n",
        "    \n",
        "    \"\"\"\n",
        "    Save checkpoints\n",
        "    \"\"\" \n",
        "    if epoch%5 == 0:\n",
        "        print(\"Time elapsed: {} min\".format((round((time.time()-time_start)/60, 2))))\n",
        "\n",
        "        checkpoint = {\"state_dict\": model.state_dict(),\n",
        "                    \"optimizer\": optimizer.state_dict(),\n",
        "                    \"step\": epoch\n",
        "                    }\n",
        "        fname = \"attention_model_\" + str(epoch) + \"_epochs.pth\"\n",
        "         \n",
        "        helper.save_checkpoint(checkpoint, fname)\n",
        "        \n",
        "    \"\"\"    \n",
        "    Early stopping\n",
        "    \"\"\"\n",
        "    current_loss = avg_batch_loss_val\n",
        "\n",
        "    if current_loss > previous_loss:\n",
        "        triggered += 1\n",
        "        print('Early Stopping Trigger Count: ', triggered)\n",
        "\n",
        "        if triggered >= 3:\n",
        "            helper.save_model(model.state_dict(), \"attention_model.pth\")\n",
        "            print('Early Stopping!')\n",
        "            break;\n",
        "\n",
        "    previous_loss = current_loss    \n",
        "        \n",
        "                \n",
        "    #for final epoch \n",
        "    if epoch == num_epochs: \n",
        "        helper.save_model(model.state_dict(), \"attention_model.pth\")\n",
        "             \n",
        "print(\"Time elapsed for {} epochs: {} min\".format(epoch, \n",
        "                                                  round((time.time()-time_start)/60, 2)))"
      ],
      "id": "f1ff3267-b774-405b-8380-cea752162718"
    },
    {
      "cell_type": "markdown",
      "metadata": {
        "id": "ceb8c7b3-5a7f-468b-b8b3-23b93e385e2d"
      },
      "source": [
        "## Plot loss "
      ],
      "id": "ceb8c7b3-5a7f-468b-b8b3-23b93e385e2d"
    },
    {
      "cell_type": "code",
      "execution_count": 19,
      "metadata": {
        "colab": {
          "base_uri": "https://localhost:8080/",
          "height": 321
        },
        "id": "b994380c-aa85-4509-bba9-43a452b78039",
        "outputId": "7eed94cc-eecd-4a81-bfb3-db7889b8c3c2"
      },
      "outputs": [
        {
          "output_type": "execute_result",
          "data": {
            "text/plain": [
              "Text(0, 0.5, 'Loss')"
            ]
          },
          "metadata": {},
          "execution_count": 19
        },
        {
          "output_type": "display_data",
          "data": {
            "text/plain": [
              "<Figure size 432x288 with 1 Axes>"
            ],
            "image/png": "[encoded data removed]"
          },
          "metadata": {}
        }
      ],
      "source": [
        "import matplotlib.pyplot as plt \n",
        "import seaborn as sns \n",
        "import pandas as pd\n",
        "sns.set() \n",
        "\n",
        "restore_latest_checkpoint = False\n",
        "\n",
        "if restore_latest_checkpoint: \n",
        "    #add to existing losses \n",
        "    old_losses = pd.read_csv('loss.csv')[[\"epochs\", \"loss\", \"loss_val\"]]\n",
        "    start_index = old_losses.epochs.max() + 1\n",
        "    new_data = [[start_index+i, losses[i][0], losses[i][1]] for i in range(len(losses))]\n",
        "    new_losses = pd.DataFrame(new_data, columns = [\"epochs\", \"loss\", \"loss_val\"])\n",
        "    loss_df = pd.concat([old_losses, new_losses], keys = [\"epochs\", \"loss\", \"loss_val\"]).reset_index(drop = True)\n",
        "    \n",
        "else:\n",
        "    #create new df \n",
        "    loss_df = pd.DataFrame(losses, columns = ['loss', \"loss_val\"])\n",
        "    loss_df = loss_df.reset_index().rename(columns= {'index': 'epochs'})\n",
        "    \n",
        "loss_df.to_csv(\"/content/drive/MyDrive/Colab Notebooks/sequences/sequences2/attention_loss.csv\")\n",
        "\n",
        "loss_df\n",
        "p = sns.lineplot(data= loss_df.iloc[:, 1:])\n",
        "p.set(title='Baseline+')\n",
        "p.set_xlabel(\"Epoch\", fontsize = 15)\n",
        "p.set_ylabel(\"Loss\", fontsize=15)"
      ],
      "id": "b994380c-aa85-4509-bba9-43a452b78039"
    },
    {
      "cell_type": "code",
      "execution_count": null,
      "metadata": {
        "id": "x80AoDN4iCX6"
      },
      "outputs": [],
      "source": [
        ""
      ],
      "id": "x80AoDN4iCX6"
    }
  ],
  "metadata": {
    "accelerator": "GPU",
    "colab": {
      "background_execution": "on",
      "collapsed_sections": [],
      "name": "train_model_attention.ipynb",
      "provenance": []
    },
    "kernelspec": {
      "display_name": "Python 3 (ipykernel)",
      "language": "python",
      "name": "python3"
    },
    "language_info": {
      "codemirror_mode": {
        "name": "ipython",
        "version": 3
      },
      "file_extension": ".py",
      "mimetype": "text/x-python",
      "name": "python",
      "nbconvert_exporter": "python",
      "pygments_lexer": "ipython3",
      "version": "3.8.12"
    }
  },
  "nbformat": 4,
  "nbformat_minor": 5
}